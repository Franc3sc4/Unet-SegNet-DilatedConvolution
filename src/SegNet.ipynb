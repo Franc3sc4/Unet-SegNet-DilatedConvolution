{
 "cells": [
  {
   "cell_type": "code",
   "execution_count": 1,
   "metadata": {
    "execution": {
     "iopub.execute_input": "2021-09-07T14:55:15.849525Z",
     "iopub.status.busy": "2021-09-07T14:55:15.849087Z",
     "iopub.status.idle": "2021-09-07T14:55:36.970391Z",
     "shell.execute_reply": "2021-09-07T14:55:36.969459Z",
     "shell.execute_reply.started": "2021-09-07T14:55:15.849411Z"
    }
   },
   "outputs": [
    {
     "name": "stdout",
     "output_type": "stream",
     "text": [
      "\u001b[33mWARNING: Running pip as root will break packages and permissions. You should install packages reliably by using venv: https://pip.pypa.io/warnings/venv\u001b[0m\n",
      "\u001b[33mWARNING: Running pip as root will break packages and permissions. You should install packages reliably by using venv: https://pip.pypa.io/warnings/venv\u001b[0m\n",
      "  Running command git clone -q https://github.com/divamgupta/image-segmentation-keras /tmp/pip-req-build-fu6kts9g\n",
      "\u001b[33mWARNING: Running pip as root will break packages and permissions. You should install packages reliably by using venv: https://pip.pypa.io/warnings/venv\u001b[0m\n",
      "env: SM_FRAMEWORK=tf.keras\n"
     ]
    }
   ],
   "source": [
    "!pip install patchify albumentations  > /dev/null \n",
    "!pip install -q -U segmentation-models > /dev/null \n",
    "!pip install --upgrade git+https://github.com/divamgupta/image-segmentation-keras > /dev/null \n",
    "%env SM_FRAMEWORK=tf.keras"
   ]
  },
  {
   "cell_type": "code",
   "execution_count": 2,
   "metadata": {
    "execution": {
     "iopub.execute_input": "2021-09-07T14:55:36.973086Z",
     "iopub.status.busy": "2021-09-07T14:55:36.972710Z",
     "iopub.status.idle": "2021-09-07T14:55:39.623754Z",
     "shell.execute_reply": "2021-09-07T14:55:39.622893Z",
     "shell.execute_reply.started": "2021-09-07T14:55:36.973044Z"
    }
   },
   "outputs": [
    {
     "name": "stdout",
     "output_type": "stream",
     "text": [
      "Segmentation Models: using `tf.keras` framework.\n"
     ]
    }
   ],
   "source": [
    "import os, cv2\n",
    "import numpy as np\n",
    "import pandas as pd\n",
    "import random, tqdm\n",
    "import seaborn as sns\n",
    "import matplotlib.pyplot as plt\n",
    "\n",
    "import warnings\n",
    "warnings.filterwarnings(\"ignore\")\n",
    "\n",
    "from tensorflow import keras\n",
    "import torch\n",
    "import torch.nn as nn\n",
    "from torch.utils.data import DataLoader\n",
    "import albumentations as album\n",
    "from patchify import patchify\n",
    "\n",
    "import utils\n",
    "import utils_road_buildings as utils_rb\n",
    "import utils_cityscapes as utils_cs\n",
    "\n",
    "##### SEGMENTATION MODEL LIBRARY #####\n",
    "import segmentation_models as sm\n",
    "from segmentation_models import get_preprocessing\n",
    "from segmentation_models.losses import bce_jaccard_loss, cce_jaccard_loss, DiceLoss, binary_focal_dice_loss, BinaryFocalLoss\n",
    "from segmentation_models.metrics import iou_score, f1_score, IOUScore, FScore\n",
    "\n",
    "##### KERAS SEGMENTATION LIBRARY #####\n",
    "from keras_segmentation.models import segnet\n",
    "from keras_segmentation.models.model_utils import transfer_weights, get_segmentation_model #molto prob. transfer weight non ci serve.\n",
    "from keras_segmentation.models.vgg16 import get_vgg_encoder\n",
    "from keras_segmentation.models.resnet50 import get_resnet50_encoder\n",
    "\n",
    "\n",
    "from tensorflow.keras.models import Model\n",
    "from tensorflow.keras.layers import Input, Activation, Reshape, Convolution2D, BatchNormalization"
   ]
  },
  {
   "cell_type": "code",
   "execution_count": 3,
   "metadata": {
    "execution": {
     "iopub.execute_input": "2021-09-07T14:55:39.625619Z",
     "iopub.status.busy": "2021-09-07T14:55:39.625352Z",
     "iopub.status.idle": "2021-09-07T14:55:39.637200Z",
     "shell.execute_reply": "2021-09-07T14:55:39.636362Z",
     "shell.execute_reply.started": "2021-09-07T14:55:39.625592Z"
    }
   },
   "outputs": [],
   "source": [
    "from tensorflow.keras import backend as K\n",
    "\n",
    "def vgg_segnet(input_shape=(256, 256), channels=3, freeze_weight = True, n_labels=2):\n",
    "    encoder = get_vgg_encoder # get_resnet50_encoder\n",
    "    img_input, levels = encoder(input_height=input_shape[0],  input_width=input_shape[1], channels=channels)\n",
    "    feat = levels[4]\n",
    "    o = segnet.segnet_decoder(feat, n_labels, n_up=5)\n",
    "    model = get_segmentation_model(img_input, o)\n",
    "    model.model_name = \"vgg.segnet\"\n",
    "    \n",
    "    if freeze_weight == True:\n",
    "        for i in range(20):\n",
    "            model.layers[i].trainable = False\n",
    "    return model\n",
    "\n",
    "def dice_coef(y_true, y_pred, smooth=1):\n",
    "    y_true_f = K.flatten(y_true)\n",
    "    y_pred_f = K.flatten(y_pred)\n",
    "    intersection = K.sum(y_true_f * y_pred_f)\n",
    "    return (2. * intersection + smooth) / (K.sum(y_true_f) + K.sum(y_pred_f) + smooth)\n",
    "\n",
    "\n",
    "def dice_coef_loss(y_true, y_pred):\n",
    "    return 1 - dice_coef(y_true, y_pred)\n",
    "\n",
    "\n",
    "def tversky(y_true, y_pred, smooth=1, alpha=1):\n",
    "    y_true_pos = K.flatten(y_true)\n",
    "    y_pred_pos = K.flatten(y_pred)\n",
    "    true_pos = K.sum(y_true_pos * y_pred_pos)\n",
    "    false_neg = K.sum(y_true_pos * (1 - y_pred_pos))\n",
    "    false_pos = K.sum((1 - y_true_pos) * y_pred_pos)\n",
    "    return (true_pos + smooth) / (true_pos + alpha * false_neg + (1 - alpha) * false_pos + smooth)\n",
    "\n",
    "\n",
    "def tversky_loss(y_true, y_pred, alpha=1):\n",
    "    return 1 - tversky(y_true, y_pred, alpha=alpha)\n",
    "\n",
    "\n",
    "def focal_tversky_loss(y_true, y_pred, gamma=0.75, alpha=1):\n",
    "    tv = tversky(y_true, y_pred, alpha=alpha)\n",
    "    return K.pow((1 - tv), gamma)\n",
    "\n",
    "vgg16_preprocessing = sm.get_preprocessing('vgg16')"
   ]
  },
  {
   "cell_type": "markdown",
   "metadata": {},
   "source": [
    "# Massachusetts Buildings"
   ]
  },
  {
   "cell_type": "code",
   "execution_count": null,
   "metadata": {},
   "outputs": [],
   "source": [
    "DATA_DIR = '../input/massachusetts-buildings-dataset/tiff/'\n",
    "PATCH_HEIGHT = 500\n",
    "PATCH_WIDTH = 500\n",
    "\n",
    "x_train_dir = os.path.join(DATA_DIR, 'train')\n",
    "y_train_dir = os.path.join(DATA_DIR, 'train_labels')\n",
    "\n",
    "x_valid_dir = os.path.join(DATA_DIR, 'val')\n",
    "y_valid_dir = os.path.join(DATA_DIR, 'val_labels')\n",
    "\n",
    "x_test_dir = os.path.join(DATA_DIR, 'test')\n",
    "y_test_dir = os.path.join(DATA_DIR, 'test_labels')\n",
    "\n",
    "# [0, 0, 0] -> background [255, 255, 255] -> Buldings\n",
    "\n",
    "class_dict = pd.read_csv(\"../input/massachusetts-buildings-dataset/label_class_dict.csv\")\n",
    "# Get class names\n",
    "class_names = class_dict['name'].tolist()\n",
    "# Get class RGB values\n",
    "class_rgb_values = class_dict[['r','g','b']].values.tolist()\n",
    "\n",
    "print('All dataset classes and their corresponding RGB values in labels:')\n",
    "print('Class Names: ', class_names)\n",
    "print('Class RGB values: ', class_rgb_values)\n",
    "# Useful to shortlist specific classes in datasets with large number of classes\n",
    "select_classes = ['background', 'building']\n",
    "# Get RGB values of required classes\n",
    "select_class_indices = [class_names.index(cls.lower()) for cls in select_classes]\n",
    "select_class_rgb_values =  np.array(class_rgb_values)[select_class_indices]\n",
    "\n",
    "print('Selected classes and their corresponding RGB values in labels: ')\n",
    "print('Class Names: ', class_names)\n",
    "print('Class RGB values: ', class_rgb_values)\n",
    "b_train_img_paths, b_train_msk_paths = utils.get_images_paths(x_train_dir, y_train_dir)\n",
    "b_valid_img_paths, b_valid_msk_paths = utils.get_images_paths(x_valid_dir, y_valid_dir)\n",
    "b_test_img_paths, b_test_msk_paths = utils.get_images_paths(x_test_dir, y_test_dir)"
   ]
  },
  {
   "cell_type": "code",
   "execution_count": null,
   "metadata": {},
   "outputs": [],
   "source": [
    "trans_aug_fn = utils.get_training_augmentation(prob=0.5)\n",
    "train_images, train_masks = utils.load_preprocess_images(b_train_img_paths, b_train_msk_paths, (PATCH_WIDTH, PATCH_HEIGHT), (256,256), 2, class_rgb_values, trans_aug_fn)\n",
    "train_images = np.array(train_images)\n",
    "train_images = vgg16_preprocessing(train_images)\n",
    "train_masks = np.array(train_masks)\n",
    "\n",
    "val_images, val_masks = utils.load_preprocess_images(b_valid_img_paths, b_valid_msk_paths, (PATCH_WIDTH, PATCH_HEIGHT), (256,256), 2, class_rgb_values)\n",
    "val_images = np.array(val_images)\n",
    "val_masks=np.array(val_masks)\n",
    "val_images = vgg16_preprocessing(val_images)"
   ]
  },
  {
   "cell_type": "code",
   "execution_count": null,
   "metadata": {},
   "outputs": [],
   "source": [
    "# set the parameters\n",
    "batch_size = 32\n",
    "n_epochs = 15\n",
    "n_labels = 2\n",
    "input_shape = (256, 256, 3)\n",
    "\n",
    "def weighted_bce(y_true, y_pred):\n",
    "    weights = (y_true * 3.) + 1.\n",
    "    bce = keras.backend.binary_crossentropy(y_true, y_pred)\n",
    "    weighted_bce = keras.backend.mean(bce * weights)\n",
    "    return weighted_bce\n",
    "\n",
    "loss = focal_tversky_loss\n",
    "#optimizer = keras.optimizers.SGD(1e-1, momentum=0.9, nesterov=True)\n",
    "optimizer = keras.optimizers.Adam(1e-3)\n"
   ]
  },
  {
   "cell_type": "code",
   "execution_count": null,
   "metadata": {},
   "outputs": [],
   "source": [
    "model = vgg_segnet(freeze_weight = True, n_labels=2)\n",
    "new_model = keras.Sequential()\n",
    "new_model.add(model)\n",
    "new_model.add(keras.layers.Reshape((256,256, 2), input_shape=(65536, 2)))"
   ]
  },
  {
   "cell_type": "code",
   "execution_count": null,
   "metadata": {},
   "outputs": [],
   "source": [
    "new_model.compile(loss=loss, optimizer=optimizer, metrics=[IOUScore(),  FScore() ,tversky])"
   ]
  },
  {
   "cell_type": "code",
   "execution_count": null,
   "metadata": {},
   "outputs": [],
   "source": [
    "#dir_weights = '../input/buildingweights'\n",
    "#new_model.load_weights(f'{dir_weights}/NewSegNet-bcejaccard-Massachusetts_40_32_Adam_lr_1e-3.h5')"
   ]
  },
  {
   "cell_type": "code",
   "execution_count": null,
   "metadata": {},
   "outputs": [],
   "source": [
    "history = new_model.fit(x=train_images, y=train_masks, batch_size=batch_size, epochs=n_epochs, \n",
    "          validation_data=(val_images, val_masks))"
   ]
  },
  {
   "cell_type": "code",
   "execution_count": null,
   "metadata": {},
   "outputs": [],
   "source": [
    "dir_weights='./'\n",
    "new_model.save_weights(f'{dir_weights}/NewSegNet-tversky-Massachusetts_15_32_Adam_lr_1e-3.h5')\n",
    "print(\"save weight done..\")"
   ]
  },
  {
   "cell_type": "code",
   "execution_count": null,
   "metadata": {},
   "outputs": [],
   "source": [
    "# print the graph\n",
    "pd.DataFrame(history.history).plot(figsize=(8,5))\n",
    "plt.grid(True)\n",
    "plt.show()"
   ]
  },
  {
   "cell_type": "code",
   "execution_count": null,
   "metadata": {},
   "outputs": [],
   "source": [
    "test_images_paths, test_masks_paths = utils.get_images_paths(x_test_dir, y_test_dir)\n",
    "test_images, test_masks = utils.load_preprocess_images(test_images_paths, test_masks_paths, (PATCH_WIDTH, PATCH_HEIGHT), (256, 256), 2, class_rgb_values)\n",
    "test_images = np.array(test_images)\n",
    "test_masks = np.array(test_masks)\n",
    "test_images_real = test_images.copy()\n",
    "test_images = vgg16_preprocessing(test_images)"
   ]
  },
  {
   "cell_type": "code",
   "execution_count": null,
   "metadata": {},
   "outputs": [],
   "source": [
    "new_model.evaluate(test_images, test_masks)"
   ]
  },
  {
   "cell_type": "code",
   "execution_count": null,
   "metadata": {},
   "outputs": [],
   "source": [
    "pred = new_model.predict(test_images)"
   ]
  },
  {
   "cell_type": "code",
   "execution_count": null,
   "metadata": {},
   "outputs": [],
   "source": [
    "idx = np.random.randint(len(test_images))\n",
    "#idx=89\n",
    "utils.visualize(original_image = test_images_real[idx],\n",
    "                ground_truth = utils.reverse_one_hot(test_masks[idx]),\n",
    "                pred_mask = utils.reverse_one_hot(pred[idx]))\n",
    "plt.show()"
   ]
  },
  {
   "cell_type": "code",
   "execution_count": null,
   "metadata": {},
   "outputs": [],
   "source": [
    "# run this cell to save image\n",
    "utils.visualize(original_image = test_images_real[idx],\n",
    "                ground_truth = utils.reverse_one_hot(test_masks[idx]),\n",
    "                pred_mask = utils.reverse_one_hot(pred[idx]))\n",
    "plt.savefig('SegNet-bcejaccard-Massachusetts_60_32_Adam_lr_1e-3.png')\n",
    "print('save figure done')"
   ]
  },
  {
   "cell_type": "markdown",
   "metadata": {},
   "source": [
    "## Road and Building"
   ]
  },
  {
   "cell_type": "code",
   "execution_count": null,
   "metadata": {},
   "outputs": [],
   "source": [
    "mapping_labels = {0: ((0,0,0), [0]), 1: ((255,255,255), [1]), \n",
    "                  2: ((255, 0, 0), [2])}\n",
    "def colour_code_segmentation(image):\n",
    "    \"\"\"\n",
    "    colorization of the segmented image\n",
    "    \"\"\"\n",
    "    w = image.shape[0]\n",
    "    h = image.shape[1]\n",
    "    new_img = np.zeros((w,h,3))\n",
    "    \n",
    "    for clm in range(h):\n",
    "        for row in range(w):\n",
    "            value = int(image[row,clm])\n",
    "            pixels =  mapping_labels[value][0]  # get ids\n",
    "            new_img[row,clm,0] = pixels[0]\n",
    "            new_img[row,clm,1] = pixels[1]\n",
    "            new_img[row,clm,2] = pixels[2]\n",
    "\n",
    "    return new_img.astype(int)\n",
    "\n",
    "def convert_to_single_mask(mask):\n",
    "    new_mask = np.zeros((mask.shape[0], mask.shape[1]))\n",
    "    for class_pos in range(mask.shape[2]): \n",
    "        tmp = mask[:, :, class_pos].copy()\n",
    "        tmp [tmp==1] = class_pos\n",
    "        new_mask = new_mask + tmp\n",
    "    return new_mask"
   ]
  },
  {
   "cell_type": "code",
   "execution_count": null,
   "metadata": {},
   "outputs": [],
   "source": [
    "DATA_DIR = '../input/massachusetts-roads-dataset/tiff/'\n",
    "x_r_train_dir = os.path.join(DATA_DIR, 'train')\n",
    "y_r_train_dir = os.path.join(DATA_DIR, 'train_labels')\n",
    "x_r_valid_dir = os.path.join(DATA_DIR, 'val')\n",
    "y_r_valid_dir = os.path.join(DATA_DIR, 'val_labels')\n",
    "x_b_test_dir = os.path.join(DATA_DIR, 'test')\n",
    "y_b_test_dir = os.path.join(DATA_DIR, 'test_labels')\n",
    "\n",
    "road_train_img_paths, road_train_mask_paths = utils.get_images_paths(x_r_train_dir, y_r_train_dir)\n",
    "road_valid_img_paths, road_valid_mask_paths = utils.get_images_paths(x_train_dir, y_train_dir)\n",
    "road_test_img_paths, road_test_mask_paths = utils.get_images_paths(x_train_dir, y_train_dir)\n",
    "\n",
    "(b_train_img_paths, b_train_msk_paths), (road_train_img_paths, road_train_mask_paths) = utils_rb.common_images(b_train_img_paths,\n",
    "                                                                                                               road_train_img_paths, b_train_msk_paths,\n",
    "                                                                                                               road_train_mask_paths)"
   ]
  },
  {
   "cell_type": "code",
   "execution_count": null,
   "metadata": {},
   "outputs": [],
   "source": [
    "train_aug_fn = utils.get_training_augmentation(prob=0.5)\n",
    "x_train, y_train = utils_rb.load_images_masks(b_train_img_paths, b_train_msk_paths, road_train_mask_paths,\n",
    "                           (PATCH_HEIGHT, PATCH_WIDTH), (256, 256), train_aug_fn)\n",
    "x_train = np.array(x_train)\n",
    "y_train = np.array(y_train)\n",
    "y_train = y_train[:, :, :, 0]\n",
    "y_train = utils_rb.multi_class_mask(y_train)\n",
    "x_valid = x_train[-200:].copy()\n",
    "y_valid = y_train[-200:].copy()\n",
    "x_train = x_train[:-200]\n",
    "y_train = y_train[:-200]\n",
    "\n",
    "x_train_sat = x_train.copy()\n",
    "x_train = vgg16_preprocessing(x_train)\n",
    "x_valid = vgg16_preprocessing(x_valid)"
   ]
  },
  {
   "cell_type": "code",
   "execution_count": null,
   "metadata": {},
   "outputs": [],
   "source": [
    "batch_size = 12\n",
    "n_epochs = 20\n",
    "input_shape = (256,256,3)\n",
    "#optimizer = keras.optimizers.SGD(1e-1, momentum=0.9, nesterov=True)\n",
    "optimizer = keras.optimizers.Adam(1e-3)"
   ]
  },
  {
   "cell_type": "code",
   "execution_count": null,
   "metadata": {},
   "outputs": [],
   "source": [
    "model = vgg_segnet(freeze_weight = True, n_labels=3)\n",
    "new_model = keras.Sequential()\n",
    "new_model.add(model)\n",
    "new_model.add(keras.layers.Reshape((256,256, 3), input_shape=(65536, 3)))"
   ]
  },
  {
   "cell_type": "code",
   "execution_count": null,
   "metadata": {},
   "outputs": [],
   "source": [
    "new_model.compile(optimizer=optimizer, loss=cce_jaccard_loss, metrics=[IOUScore(), FScore()] )"
   ]
  },
  {
   "cell_type": "code",
   "execution_count": null,
   "metadata": {},
   "outputs": [],
   "source": [
    "history = new_model.fit(x=x_train, y=y_train, batch_size=batch_size, epochs=n_epochs, \n",
    "          validation_data=(x_valid, y_valid))"
   ]
  },
  {
   "cell_type": "code",
   "execution_count": null,
   "metadata": {},
   "outputs": [],
   "source": [
    "new_model.evaluate(x_train, y_train)"
   ]
  },
  {
   "cell_type": "code",
   "execution_count": null,
   "metadata": {},
   "outputs": [],
   "source": [
    "pred = new_model.predict(x_train)\n",
    "result = np.argmax(pred,axis=-1)"
   ]
  },
  {
   "cell_type": "code",
   "execution_count": null,
   "metadata": {},
   "outputs": [],
   "source": [
    "idx = np.random.randint(len(result))\n",
    "print(idx)\n",
    "res_seg = colour_code_segmentation(result[idx]) #colour the mask by using the dictionary, group_label -> pixel\n",
    "mask_example = y_train[idx]\n",
    "mask_example = convert_to_single_mask(mask_example) \n",
    "result_example = colour_code_segmentation(mask_example)\n",
    "\n",
    "fig, axes = plt.subplots(1, 3,figsize=(15,15))\n",
    "_ = axes[0].imshow(x_train_sat[idx])\n",
    "_ = axes[1].imshow(res_seg)\n",
    "_ = axes[2].imshow(result_example)\n",
    "plt.show()"
   ]
  },
  {
   "cell_type": "markdown",
   "metadata": {},
   "source": [
    "# Cityscapes"
   ]
  },
  {
   "cell_type": "code",
   "execution_count": 7,
   "metadata": {
    "execution": {
     "iopub.execute_input": "2021-09-07T15:49:57.153488Z",
     "iopub.status.busy": "2021-09-07T15:49:57.153106Z",
     "iopub.status.idle": "2021-09-07T15:49:57.160849Z",
     "shell.execute_reply": "2021-09-07T15:49:57.159993Z",
     "shell.execute_reply.started": "2021-09-07T15:49:57.153451Z"
    }
   },
   "outputs": [],
   "source": [
    "DATA_DIR = '../input/cityscape/'\n",
    "\n",
    "x_train_dir = os.path.join(DATA_DIR, 'train/images')\n",
    "y_train_dir = os.path.join(DATA_DIR, 'train/annotations')\n",
    "\n",
    "x_valid_dir = os.path.join(DATA_DIR, 'val/images')\n",
    "y_valid_dir = os.path.join(DATA_DIR, 'val/annotations')\n",
    "\n",
    "x_test_dir = os.path.join(DATA_DIR, 'test/images')\n",
    "y_test_dir = os.path.join(DATA_DIR, 'test/annotations')\n",
    "\n",
    "\n",
    "class_values = utils_cs.grouped_labels\n",
    "n_labels = len(class_values)+1\n",
    "BATCH_SIZE = 12\n",
    "EPOCHS = 40\n",
    "input_shape = (256,256,3)\n",
    "\n",
    "#optimizer = keras.optimizers.Adam(1e-1)\n",
    "optimizer = keras.optimizers.SGD(1e-1,  momentum=0.9)"
   ]
  },
  {
   "cell_type": "code",
   "execution_count": 8,
   "metadata": {
    "execution": {
     "iopub.execute_input": "2021-09-07T15:49:57.458705Z",
     "iopub.status.busy": "2021-09-07T15:49:57.458385Z",
     "iopub.status.idle": "2021-09-07T15:49:57.930207Z",
     "shell.execute_reply": "2021-09-07T15:49:57.929368Z",
     "shell.execute_reply.started": "2021-09-07T15:49:57.458677Z"
    }
   },
   "outputs": [],
   "source": [
    "model = vgg_segnet(freeze_weight = True, n_labels=n_labels)\n",
    "new_model = keras.Sequential()\n",
    "new_model.add(model)\n",
    "new_model.add(keras.layers.Reshape((256,256, n_labels), input_shape=(65536, n_labels)))\n",
    "\n",
    "new_model.compile(optimizer=optimizer, loss=cce_jaccard_loss, metrics=[IOUScore(),  FScore() ,tversky] )\n",
    "\n",
    "training_dataset = utils_cs.Dataset(x_train_dir, y_train_dir, class_values=class_values, doreshape=False, preprocessing=utils_cs.get_preprocessing(vgg16_preprocessing))\n",
    "valid_dataset = utils_cs.Dataset(x_valid_dir, y_valid_dir, class_values=class_values, doreshape=False, preprocessing=utils_cs.get_preprocessing(vgg16_preprocessing))\n",
    "\n",
    "train_dataloader = utils_cs.Dataloder(training_dataset, batch_size=BATCH_SIZE, shuffle=True)\n",
    "valid_dataloader = utils_cs.Dataloder(valid_dataset, batch_size=1, shuffle=False)"
   ]
  },
  {
   "cell_type": "code",
   "execution_count": 10,
   "metadata": {
    "execution": {
     "iopub.execute_input": "2021-09-07T15:49:58.320068Z",
     "iopub.status.busy": "2021-09-07T15:49:58.319753Z",
     "iopub.status.idle": "2021-09-07T17:19:06.676575Z",
     "shell.execute_reply": "2021-09-07T17:19:06.675747Z",
     "shell.execute_reply.started": "2021-09-07T15:49:58.320039Z"
    }
   },
   "outputs": [
    {
     "name": "stdout",
     "output_type": "stream",
     "text": [
      "Epoch 1/40\n",
      "95/95 [==============================] - 135s 1s/step - loss: 0.7969 - iou_score: 0.3533 - f1-score: 0.4664 - tversky: 0.6720 - val_loss: 0.9194 - val_iou_score: 0.3981 - val_f1-score: 0.4921 - val_tversky: 0.7665\n",
      "Epoch 2/40\n",
      "95/95 [==============================] - 133s 1s/step - loss: 0.6690 - iou_score: 0.4496 - f1-score: 0.5726 - tversky: 0.7669 - val_loss: 0.7704 - val_iou_score: 0.4146 - val_f1-score: 0.5134 - val_tversky: 0.7721\n",
      "Epoch 3/40\n",
      "95/95 [==============================] - 134s 1s/step - loss: 0.6187 - iou_score: 0.4786 - f1-score: 0.5994 - tversky: 0.7906 - val_loss: 0.7112 - val_iou_score: 0.4157 - val_f1-score: 0.5129 - val_tversky: 0.7876\n",
      "Epoch 4/40\n",
      "95/95 [==============================] - 131s 1s/step - loss: 0.6139 - iou_score: 0.4861 - f1-score: 0.6084 - tversky: 0.7933 - val_loss: 0.6955 - val_iou_score: 0.4183 - val_f1-score: 0.5129 - val_tversky: 0.7938\n",
      "Epoch 5/40\n",
      "95/95 [==============================] - 131s 1s/step - loss: 0.5927 - iou_score: 0.5029 - f1-score: 0.6238 - tversky: 0.8032 - val_loss: 0.6953 - val_iou_score: 0.4256 - val_f1-score: 0.5205 - val_tversky: 0.8002\n",
      "Epoch 6/40\n",
      "95/95 [==============================] - 132s 1s/step - loss: 0.5600 - iou_score: 0.5257 - f1-score: 0.6456 - tversky: 0.8196 - val_loss: 0.6989 - val_iou_score: 0.4219 - val_f1-score: 0.5200 - val_tversky: 0.7833\n",
      "Epoch 7/40\n",
      "95/95 [==============================] - 132s 1s/step - loss: 0.5609 - iou_score: 0.5268 - f1-score: 0.6476 - tversky: 0.8180 - val_loss: 0.6883 - val_iou_score: 0.4299 - val_f1-score: 0.5275 - val_tversky: 0.7928\n",
      "Epoch 8/40\n",
      "95/95 [==============================] - 132s 1s/step - loss: 0.5562 - iou_score: 0.5311 - f1-score: 0.6529 - tversky: 0.8180 - val_loss: 0.6995 - val_iou_score: 0.4249 - val_f1-score: 0.5226 - val_tversky: 0.7936\n",
      "Epoch 9/40\n",
      "95/95 [==============================] - 135s 1s/step - loss: 0.5414 - iou_score: 0.5426 - f1-score: 0.6629 - tversky: 0.8271 - val_loss: 0.6710 - val_iou_score: 0.4363 - val_f1-score: 0.5308 - val_tversky: 0.8049\n",
      "Epoch 10/40\n",
      "95/95 [==============================] - 135s 1s/step - loss: 0.5273 - iou_score: 0.5532 - f1-score: 0.6720 - tversky: 0.8353 - val_loss: 0.6735 - val_iou_score: 0.4325 - val_f1-score: 0.5298 - val_tversky: 0.7970\n",
      "Epoch 11/40\n",
      "95/95 [==============================] - 136s 1s/step - loss: 0.5306 - iou_score: 0.5521 - f1-score: 0.6718 - tversky: 0.8334 - val_loss: 0.6833 - val_iou_score: 0.4351 - val_f1-score: 0.5291 - val_tversky: 0.8062\n",
      "Epoch 12/40\n",
      "95/95 [==============================] - 134s 1s/step - loss: 0.5144 - iou_score: 0.5640 - f1-score: 0.6804 - tversky: 0.8402 - val_loss: 0.6832 - val_iou_score: 0.4410 - val_f1-score: 0.5370 - val_tversky: 0.8038\n",
      "Epoch 13/40\n",
      "95/95 [==============================] - 133s 1s/step - loss: 0.5165 - iou_score: 0.5609 - f1-score: 0.6782 - tversky: 0.8395 - val_loss: 0.7097 - val_iou_score: 0.4267 - val_f1-score: 0.5210 - val_tversky: 0.7968\n",
      "Epoch 14/40\n",
      "95/95 [==============================] - 132s 1s/step - loss: 0.5250 - iou_score: 0.5570 - f1-score: 0.6763 - tversky: 0.8350 - val_loss: 0.6777 - val_iou_score: 0.4371 - val_f1-score: 0.5347 - val_tversky: 0.8000\n",
      "Epoch 15/40\n",
      "95/95 [==============================] - 131s 1s/step - loss: 0.5086 - iou_score: 0.5684 - f1-score: 0.6868 - tversky: 0.8438 - val_loss: 0.6928 - val_iou_score: 0.4250 - val_f1-score: 0.5272 - val_tversky: 0.7808\n",
      "Epoch 16/40\n",
      "95/95 [==============================] - 131s 1s/step - loss: 0.5019 - iou_score: 0.5763 - f1-score: 0.6949 - tversky: 0.8438 - val_loss: 0.6866 - val_iou_score: 0.4307 - val_f1-score: 0.5308 - val_tversky: 0.7902\n",
      "Epoch 17/40\n",
      "95/95 [==============================] - 131s 1s/step - loss: 0.5070 - iou_score: 0.5715 - f1-score: 0.6898 - tversky: 0.8435 - val_loss: 0.6718 - val_iou_score: 0.4420 - val_f1-score: 0.5394 - val_tversky: 0.8023\n",
      "Epoch 18/40\n",
      "95/95 [==============================] - 131s 1s/step - loss: 0.4921 - iou_score: 0.5834 - f1-score: 0.7013 - tversky: 0.8494 - val_loss: 0.6852 - val_iou_score: 0.4416 - val_f1-score: 0.5360 - val_tversky: 0.8104\n",
      "Epoch 19/40\n",
      "95/95 [==============================] - 132s 1s/step - loss: 0.4891 - iou_score: 0.5865 - f1-score: 0.7038 - tversky: 0.8528 - val_loss: 0.6821 - val_iou_score: 0.4395 - val_f1-score: 0.5355 - val_tversky: 0.8053\n",
      "Epoch 20/40\n",
      "95/95 [==============================] - 130s 1s/step - loss: 0.4865 - iou_score: 0.5890 - f1-score: 0.7068 - tversky: 0.8513 - val_loss: 0.6881 - val_iou_score: 0.4377 - val_f1-score: 0.5367 - val_tversky: 0.7928\n",
      "Epoch 21/40\n",
      "95/95 [==============================] - 131s 1s/step - loss: 0.4817 - iou_score: 0.5934 - f1-score: 0.7105 - tversky: 0.8543 - val_loss: 0.7028 - val_iou_score: 0.4213 - val_f1-score: 0.5184 - val_tversky: 0.7921\n",
      "Epoch 22/40\n",
      "95/95 [==============================] - 130s 1s/step - loss: 0.4699 - iou_score: 0.6017 - f1-score: 0.7186 - tversky: 0.8586 - val_loss: 0.6922 - val_iou_score: 0.4334 - val_f1-score: 0.5278 - val_tversky: 0.8053\n",
      "Epoch 23/40\n",
      "95/95 [==============================] - 131s 1s/step - loss: 0.4706 - iou_score: 0.6019 - f1-score: 0.7184 - tversky: 0.8600 - val_loss: 0.7023 - val_iou_score: 0.4220 - val_f1-score: 0.5208 - val_tversky: 0.7867\n",
      "Epoch 24/40\n",
      "95/95 [==============================] - 131s 1s/step - loss: 0.4657 - iou_score: 0.6072 - f1-score: 0.7257 - tversky: 0.8586 - val_loss: 0.6995 - val_iou_score: 0.4285 - val_f1-score: 0.5268 - val_tversky: 0.7800\n",
      "Epoch 25/40\n",
      "95/95 [==============================] - 131s 1s/step - loss: 0.4629 - iou_score: 0.6084 - f1-score: 0.7251 - tversky: 0.8609 - val_loss: 0.6901 - val_iou_score: 0.4325 - val_f1-score: 0.5280 - val_tversky: 0.7991\n",
      "Epoch 26/40\n",
      "95/95 [==============================] - 134s 1s/step - loss: 0.4557 - iou_score: 0.6147 - f1-score: 0.7307 - tversky: 0.8634 - val_loss: 0.7053 - val_iou_score: 0.4286 - val_f1-score: 0.5205 - val_tversky: 0.8063\n",
      "Epoch 27/40\n",
      "95/95 [==============================] - 135s 1s/step - loss: 0.4636 - iou_score: 0.6092 - f1-score: 0.7269 - tversky: 0.8611 - val_loss: 0.6991 - val_iou_score: 0.4289 - val_f1-score: 0.5259 - val_tversky: 0.7958\n",
      "Epoch 28/40\n",
      "95/95 [==============================] - 133s 1s/step - loss: 0.4611 - iou_score: 0.6115 - f1-score: 0.7291 - tversky: 0.8617 - val_loss: 0.6889 - val_iou_score: 0.4416 - val_f1-score: 0.5364 - val_tversky: 0.8075\n",
      "Epoch 29/40\n",
      "95/95 [==============================] - 134s 1s/step - loss: 0.4484 - iou_score: 0.6211 - f1-score: 0.7369 - tversky: 0.8670 - val_loss: 0.6873 - val_iou_score: 0.4404 - val_f1-score: 0.5360 - val_tversky: 0.8041\n",
      "Epoch 30/40\n",
      "95/95 [==============================] - 137s 1s/step - loss: 0.4390 - iou_score: 0.6288 - f1-score: 0.7434 - tversky: 0.8700 - val_loss: 0.7070 - val_iou_score: 0.4278 - val_f1-score: 0.5230 - val_tversky: 0.8030\n",
      "Epoch 31/40\n",
      "95/95 [==============================] - 143s 2s/step - loss: 0.4384 - iou_score: 0.6295 - f1-score: 0.7448 - tversky: 0.8713 - val_loss: 0.7063 - val_iou_score: 0.4288 - val_f1-score: 0.5220 - val_tversky: 0.8047\n",
      "Epoch 32/40\n",
      "95/95 [==============================] - 143s 2s/step - loss: 0.4335 - iou_score: 0.6341 - f1-score: 0.7482 - tversky: 0.8733 - val_loss: 0.7071 - val_iou_score: 0.4287 - val_f1-score: 0.5274 - val_tversky: 0.7917\n",
      "Epoch 33/40\n",
      "95/95 [==============================] - 141s 1s/step - loss: 0.4424 - iou_score: 0.6272 - f1-score: 0.7430 - tversky: 0.8702 - val_loss: 0.7072 - val_iou_score: 0.4289 - val_f1-score: 0.5242 - val_tversky: 0.7973\n",
      "Epoch 34/40\n",
      "95/95 [==============================] - 136s 1s/step - loss: 0.4335 - iou_score: 0.6363 - f1-score: 0.7521 - tversky: 0.8720 - val_loss: 0.7049 - val_iou_score: 0.4294 - val_f1-score: 0.5240 - val_tversky: 0.8013\n",
      "Epoch 35/40\n",
      "95/95 [==============================] - 135s 1s/step - loss: 0.4399 - iou_score: 0.6295 - f1-score: 0.7454 - tversky: 0.8703 - val_loss: 0.7075 - val_iou_score: 0.4239 - val_f1-score: 0.5203 - val_tversky: 0.7940\n",
      "Epoch 36/40\n",
      "95/95 [==============================] - 141s 1s/step - loss: 0.4222 - iou_score: 0.6438 - f1-score: 0.7574 - tversky: 0.8774 - val_loss: 0.7023 - val_iou_score: 0.4290 - val_f1-score: 0.5251 - val_tversky: 0.7989\n",
      "Epoch 37/40\n",
      "95/95 [==============================] - 133s 1s/step - loss: 0.4137 - iou_score: 0.6508 - f1-score: 0.7631 - tversky: 0.8806 - val_loss: 0.7387 - val_iou_score: 0.4125 - val_f1-score: 0.5102 - val_tversky: 0.7835\n",
      "Epoch 38/40\n",
      "95/95 [==============================] - 133s 1s/step - loss: 0.4318 - iou_score: 0.6384 - f1-score: 0.7540 - tversky: 0.8705 - val_loss: 0.7228 - val_iou_score: 0.4202 - val_f1-score: 0.5155 - val_tversky: 0.7947\n",
      "Epoch 39/40\n",
      "95/95 [==============================] - 133s 1s/step - loss: 0.4220 - iou_score: 0.6452 - f1-score: 0.7594 - tversky: 0.8761 - val_loss: 0.7050 - val_iou_score: 0.4295 - val_f1-score: 0.5274 - val_tversky: 0.7925\n",
      "Epoch 40/40\n",
      "95/95 [==============================] - 132s 1s/step - loss: 0.4089 - iou_score: 0.6548 - f1-score: 0.7660 - tversky: 0.8830 - val_loss: 0.7052 - val_iou_score: 0.4328 - val_f1-score: 0.5274 - val_tversky: 0.8024\n"
     ]
    }
   ],
   "source": [
    "# train model\n",
    "history = new_model.fit(train_dataloader, \n",
    "                        epochs=EPOCHS, \n",
    "                        validation_data=valid_dataloader\n",
    "                        )"
   ]
  },
  {
   "cell_type": "code",
   "execution_count": 11,
   "metadata": {
    "execution": {
     "iopub.execute_input": "2021-09-07T17:19:53.356867Z",
     "iopub.status.busy": "2021-09-07T17:19:53.356522Z",
     "iopub.status.idle": "2021-09-07T17:19:53.508829Z",
     "shell.execute_reply": "2021-09-07T17:19:53.507885Z",
     "shell.execute_reply.started": "2021-09-07T17:19:53.356835Z"
    }
   },
   "outputs": [
    {
     "name": "stdout",
     "output_type": "stream",
     "text": [
      "save weights done\n"
     ]
    }
   ],
   "source": [
    "dir_weights = './'\n",
    "new_model.save_weights(f'{dir_weights}/weights-NewSegNet-cityscape_40_12_SGD_lr_1e-3.h5')\n",
    "print('save weights done')"
   ]
  },
  {
   "cell_type": "code",
   "execution_count": 12,
   "metadata": {
    "execution": {
     "iopub.execute_input": "2021-09-07T17:19:53.870679Z",
     "iopub.status.busy": "2021-09-07T17:19:53.870344Z",
     "iopub.status.idle": "2021-09-07T17:19:54.136752Z",
     "shell.execute_reply": "2021-09-07T17:19:54.135862Z",
     "shell.execute_reply.started": "2021-09-07T17:19:53.870649Z"
    }
   },
   "outputs": [
    {
     "data": {
      "image/png": "[encoded data removed]",
      "text/plain": [
       "<Figure size 576x360 with 1 Axes>"
      ]
     },
     "metadata": {
      "needs_background": "light"
     },
     "output_type": "display_data"
    }
   ],
   "source": [
    "# print the graph\n",
    "pd.DataFrame(history.history).plot(figsize=(8,5))\n",
    "plt.grid(True)\n",
    "plt.show()"
   ]
  },
  {
   "cell_type": "code",
   "execution_count": 13,
   "metadata": {
    "execution": {
     "iopub.execute_input": "2021-09-07T17:19:54.793677Z",
     "iopub.status.busy": "2021-09-07T17:19:54.793314Z",
     "iopub.status.idle": "2021-09-07T17:19:55.235251Z",
     "shell.execute_reply": "2021-09-07T17:19:55.234331Z",
     "shell.execute_reply.started": "2021-09-07T17:19:54.793647Z"
    }
   },
   "outputs": [],
   "source": [
    "test_dataset = utils_cs.Dataset(x_test_dir, y_test_dir, class_values=class_values, preprocessing=utils_cs.get_preprocessing(vgg16_preprocessing))\n",
    "test_dataloader = utils_cs.Dataloder(test_dataset, batch_size=1, shuffle=False)"
   ]
  },
  {
   "cell_type": "code",
   "execution_count": 14,
   "metadata": {
    "execution": {
     "iopub.execute_input": "2021-09-07T17:19:55.722198Z",
     "iopub.status.busy": "2021-09-07T17:19:55.721852Z",
     "iopub.status.idle": "2021-09-07T17:20:52.018626Z",
     "shell.execute_reply": "2021-09-07T17:20:52.017803Z",
     "shell.execute_reply.started": "2021-09-07T17:19:55.722165Z"
    }
   },
   "outputs": [
    {
     "name": "stdout",
     "output_type": "stream",
     "text": [
      "472/472 [==============================] - 56s 119ms/step - loss: 0.6955 - iou_score: 0.4412 - f1-score: 0.5378 - tversky: 0.8048\n"
     ]
    }
   ],
   "source": [
    "evaluation = new_model.evaluate(test_dataloader)"
   ]
  },
  {
   "cell_type": "code",
   "execution_count": 15,
   "metadata": {
    "execution": {
     "iopub.execute_input": "2021-09-07T17:20:52.024474Z",
     "iopub.status.busy": "2021-09-07T17:20:52.021704Z",
     "iopub.status.idle": "2021-09-07T17:21:38.196145Z",
     "shell.execute_reply": "2021-09-07T17:21:38.195180Z",
     "shell.execute_reply.started": "2021-09-07T17:20:52.024426Z"
    }
   },
   "outputs": [],
   "source": [
    "pred = new_model.predict(test_dataloader)\n",
    "result = np.argmax(pred,axis=3)"
   ]
  },
  {
   "cell_type": "code",
   "execution_count": 22,
   "metadata": {
    "execution": {
     "iopub.execute_input": "2021-09-07T17:39:03.805869Z",
     "iopub.status.busy": "2021-09-07T17:39:03.805444Z",
     "iopub.status.idle": "2021-09-07T17:39:04.336413Z",
     "shell.execute_reply": "2021-09-07T17:39:04.335528Z",
     "shell.execute_reply.started": "2021-09-07T17:39:03.805825Z"
    }
   },
   "outputs": [
    {
     "data": {
      "image/png": "[encoded data removed]",
      "text/plain": [
       "<Figure size 648x432 with 2 Axes>"
      ]
     },
     "metadata": {
      "needs_background": "light"
     },
     "output_type": "display_data"
    }
   ],
   "source": [
    "idx = np.random.randint(len(test_dataset))\n",
    "res_seg = utils_cs.colour_code_segmentation(result[idx]) #colour the mask by using the dictionary, group_label -> pixel\n",
    "\n",
    "mask_example = test_dataset.__getitem__(idx)[1]\n",
    "mask_example = test_dataset.convert_to_single_mask(mask_example) \n",
    "result_example = utils_cs.colour_code_segmentation(mask_example)\n",
    "\n",
    "fig, axes = plt.subplots(1, 2,figsize=(9,6))\n",
    "_ = axes[0].imshow(res_seg)\n",
    "_ = axes[1].imshow(result_example)\n",
    "plt.show()"
   ]
  }
 ],
 "metadata": {
  "kernelspec": {
   "display_name": "Python 3",
   "language": "python",
   "name": "python3"
  },
  "language_info": {
   "codemirror_mode": {
    "name": "ipython",
    "version": 3
   },
   "file_extension": ".py",
   "mimetype": "text/x-python",
   "name": "python",
   "nbconvert_exporter": "python",
   "pygments_lexer": "ipython3",
   "version": "3.8.8"
  }
 },
 "nbformat": 4,
 "nbformat_minor": 4
}
