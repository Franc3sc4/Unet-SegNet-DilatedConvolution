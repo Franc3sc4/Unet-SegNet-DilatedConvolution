{
 "cells": [
  {
   "cell_type": "code",
   "execution_count": 1,
   "metadata": {
    "execution": {
     "iopub.execute_input": "2021-09-07T15:56:05.526188Z",
     "iopub.status.busy": "2021-09-07T15:56:05.525809Z",
     "iopub.status.idle": "2021-09-07T15:56:21.136977Z",
     "shell.execute_reply": "2021-09-07T15:56:21.135707Z",
     "shell.execute_reply.started": "2021-09-07T15:56:05.526110Z"
    }
   },
   "outputs": [
    {
     "name": "stdout",
     "output_type": "stream",
     "text": [
      "\u001b[33mWARNING: Running pip as root will break packages and permissions. You should install packages reliably by using venv: https://pip.pypa.io/warnings/venv\u001b[0m\n",
      "\u001b[33mWARNING: Running pip as root will break packages and permissions. You should install packages reliably by using venv: https://pip.pypa.io/warnings/venv\u001b[0m\n",
      "env: SM_FRAMEWORK=tf.keras\n"
     ]
    }
   ],
   "source": [
    "!pip install patchify albumentations  > /dev/null \n",
    "!pip install -q -U segmentation-models > /dev/null \n",
    "%env SM_FRAMEWORK=tf.keras"
   ]
  },
  {
   "cell_type": "code",
   "execution_count": 2,
   "metadata": {
    "execution": {
     "iopub.execute_input": "2021-09-07T15:56:21.139699Z",
     "iopub.status.busy": "2021-09-07T15:56:21.138948Z",
     "iopub.status.idle": "2021-09-07T15:56:28.328661Z",
     "shell.execute_reply": "2021-09-07T15:56:28.327689Z",
     "shell.execute_reply.started": "2021-09-07T15:56:21.139656Z"
    }
   },
   "outputs": [
    {
     "name": "stdout",
     "output_type": "stream",
     "text": [
      "Segmentation Models: using `tf.keras` framework.\n"
     ]
    }
   ],
   "source": [
    "import os, cv2\n",
    "import numpy as np\n",
    "import pandas as pd\n",
    "import random, tqdm\n",
    "import seaborn as sns\n",
    "import matplotlib.pyplot as plt\n",
    "%matplotlib inline\n",
    "\n",
    "import warnings\n",
    "warnings.filterwarnings(\"ignore\")\n",
    "\n",
    "import tensorflow as tf\n",
    "from tensorflow import keras\n",
    "import torch\n",
    "import torch.nn as nn\n",
    "from torch.utils.data import DataLoader\n",
    "\n",
    "import albumentations as album\n",
    "from patchify import patchify\n",
    "import utils\n",
    "import utils_cityscapes as utils_cs\n",
    "import segmentation_models as sm\n",
    "from segmentation_models import Unet\n",
    "from segmentation_models.losses import bce_jaccard_loss, BinaryFocalLoss\n",
    "from segmentation_models.losses import cce_jaccard_loss\n",
    "from segmentation_models.metrics import iou_score\n",
    "from segmentation_models.metrics import FScore"
   ]
  },
  {
   "cell_type": "code",
   "execution_count": null,
   "metadata": {
    "execution": {
     "iopub.execute_input": "2021-09-07T05:42:44.291656Z",
     "iopub.status.busy": "2021-09-07T05:42:44.291152Z",
     "iopub.status.idle": "2021-09-07T05:42:44.412554Z",
     "shell.execute_reply": "2021-09-07T05:42:44.411581Z",
     "shell.execute_reply.started": "2021-09-07T05:42:44.29162Z"
    }
   },
   "outputs": [],
   "source": [
    "DATA_DIR = '../input/massachusetts-buildings-dataset/tiff/'\n",
    "PATCH_HEIGHT = 500\n",
    "PATCH_WIDTH = 500\n",
    "\n",
    "x_train_dir = os.path.join(DATA_DIR, 'train')\n",
    "y_train_dir = os.path.join(DATA_DIR, 'train_labels')\n",
    "\n",
    "x_valid_dir = os.path.join(DATA_DIR, 'val')\n",
    "y_valid_dir = os.path.join(DATA_DIR, 'val_labels')\n",
    "\n",
    "x_test_dir = os.path.join(DATA_DIR, 'test')\n",
    "y_test_dir = os.path.join(DATA_DIR, 'test_labels')\n",
    "\n",
    "# [0, 0, 0] -> background [255, 255, 255] -> Buldings\n",
    "\n",
    "class_dict = pd.read_csv(\"../input/massachusetts-buildings-dataset/label_class_dict.csv\")\n",
    "# Get class names\n",
    "class_names = class_dict['name'].tolist()\n",
    "# Get class RGB values\n",
    "class_rgb_values = class_dict[['r','g','b']].values.tolist()\n",
    "\n",
    "print('All dataset classes and their corresponding RGB values in labels:')\n",
    "print('Class Names: ', class_names)\n",
    "print('Class RGB values: ', class_rgb_values)\n",
    "# Useful to shortlist specific classes in datasets with large number of classes\n",
    "select_classes = ['background', 'building']\n",
    "# Get RGB values of required classes\n",
    "select_class_indices = [class_names.index(cls.lower()) for cls in select_classes]\n",
    "select_class_rgb_values =  np.array(class_rgb_values)[select_class_indices]\n",
    "\n",
    "print('Selected classes and their corresponding RGB values in labels:')\n",
    "print('Class Names: ', class_names)\n",
    "print('Class RGB values: ', class_rgb_values)\n",
    "train_images_paths, mask_images_paths = utils.get_images_paths(x_train_dir, y_train_dir)"
   ]
  },
  {
   "cell_type": "code",
   "execution_count": null,
   "metadata": {
    "execution": {
     "iopub.execute_input": "2021-09-06T13:33:59.03748Z",
     "iopub.status.busy": "2021-09-06T13:33:59.037141Z",
     "iopub.status.idle": "2021-09-06T13:34:26.336911Z",
     "shell.execute_reply": "2021-09-06T13:34:26.336027Z",
     "shell.execute_reply.started": "2021-09-06T13:33:59.037446Z"
    }
   },
   "outputs": [],
   "source": [
    "train_images_paths, mask_images_paths = utils.get_images_paths(x_train_dir, y_train_dir)\n",
    "val_images_paths, val_masks_paths = utils.get_images_paths(x_valid_dir, y_valid_dir)\n",
    "test_images_paths, test_masks_paths = utils.get_images_paths(x_test_dir, y_test_dir)\n",
    "\n",
    "trans_aug_fn = utils.get_training_augmentation(prob=0.4)\n",
    "train_images, train_masks = utils.load_preprocess_images(train_images_paths, mask_images_paths,\n",
    "                                                         (PATCH_WIDTH, PATCH_HEIGHT), (256, 256), 2,\n",
    "                                                         class_rgb_values, trans_aug_fn)\n",
    "train_images = np.array(train_images)\n",
    "train_masks = np.array(train_masks)\n",
    "\n",
    "val_images, val_masks = utils.load_preprocess_images(val_images_paths, val_masks_paths,\n",
    "                                                     (PATCH_WIDTH, PATCH_HEIGHT), (256, 256), 2, class_rgb_values)\n",
    "val_images = np.array(val_images)\n",
    "val_masks=np.array(val_masks)"
   ]
  },
  {
   "cell_type": "code",
   "execution_count": null,
   "metadata": {},
   "outputs": [],
   "source": [
    "idx=np.random.randint(len(train_images))\n",
    "print(idx)\n",
    "utils.visualize(\n",
    "        original_image = train_images[idx],\n",
    "        ground_truth_mask = utils.colour_code_segmentation(utils.reverse_one_hot(train_masks[idx]), select_class_rgb_values),\n",
    "        one_hot_encoded_mask = utils.reverse_one_hot(train_masks[idx])\n",
    "    )\n",
    "plt.show()"
   ]
  },
  {
   "cell_type": "code",
   "execution_count": null,
   "metadata": {
    "execution": {
     "iopub.execute_input": "2021-09-07T13:08:31.760853Z",
     "iopub.status.busy": "2021-09-07T13:08:31.760495Z",
     "iopub.status.idle": "2021-09-07T13:08:31.771385Z",
     "shell.execute_reply": "2021-09-07T13:08:31.770361Z",
     "shell.execute_reply.started": "2021-09-07T13:08:31.760824Z"
    }
   },
   "outputs": [],
   "source": [
    "import tensorflow.keras.backend as K\n",
    "\n",
    "ALPHA = 0.7\n",
    "GAMMA = 0.75\n",
    "\n",
    "def tversky(y_true, y_pred, smooth=1, alpha=0.8):\n",
    "    y_true_pos = K.flatten(y_true)\n",
    "    y_pred_pos = K.flatten(y_pred)\n",
    "    true_pos = K.sum(y_true_pos * y_pred_pos)\n",
    "    false_neg = K.sum(y_true_pos * (1 - y_pred_pos))\n",
    "    false_pos = K.sum((1 - y_true_pos) * y_pred_pos)\n",
    "    return (true_pos + smooth) / (true_pos + ALPHA * false_neg + (1 - ALPHA) * false_pos + smooth)\n",
    "\n",
    "\n",
    "def tversky_loss(y_true, y_pred, alpha=0.75):\n",
    "    return 1 - tversky(y_true, y_pred, alpha=ALPHA)\n",
    "\n",
    "\n",
    "def focal_tversky_loss(y_true, y_pred, gamma=0.75, alpha=0.8):\n",
    "    tv = tversky(y_true, y_pred, alpha=ALPHA)\n",
    "    return K.pow((1 - tv), GAMMA)"
   ]
  },
  {
   "cell_type": "code",
   "execution_count": null,
   "metadata": {
    "execution": {
     "iopub.execute_input": "2021-09-07T13:08:38.334391Z",
     "iopub.status.busy": "2021-09-07T13:08:38.33403Z",
     "iopub.status.idle": "2021-09-07T13:08:38.690547Z",
     "shell.execute_reply": "2021-09-07T13:08:38.688722Z",
     "shell.execute_reply.started": "2021-09-07T13:08:38.334334Z"
    }
   },
   "outputs": [],
   "source": [
    "ENCODER = 'vgg16' #vgg16\n",
    "ENCODER_WEIGHTS = 'imagenet'\n",
    "CLASSES = class_names\n",
    "ACTIVATION = 'sigmoid'\n",
    "BATCH_SIZE=12\n",
    "EPOCHS=40\n",
    "\n",
    "model = Unet(\n",
    "    ENCODER, \n",
    "    encoder_weights=ENCODER_WEIGHTS, \n",
    "    classes=len(CLASSES), \n",
    "    activation=ACTIVATION,\n",
    "    encoder_freeze = True\n",
    ")\n",
    "\n",
    "preprocessing_fn = sm.get_preprocessing(ENCODER)\n",
    "\n",
    "######################### OPTIMIZER ####################\n",
    "#optimizer = tf.keras.optimizers.SGD(learning_rate=0.1, momentum=0.9, nesterov=True, name=\"SGD\" )\n",
    "optimizer = keras.optimizers.Adam(learning_rate=0.001)\n",
    "\n",
    "fs= FScore()\n",
    "model.compile(optimizer=optimizer, loss=tversky_loss, metrics=[iou_score, fs, tversky])"
   ]
  },
  {
   "cell_type": "code",
   "execution_count": null,
   "metadata": {
    "execution": {
     "iopub.execute_input": "2021-09-06T13:34:33.520292Z",
     "iopub.status.busy": "2021-09-06T13:34:33.519963Z",
     "iopub.status.idle": "2021-09-06T13:34:34.074811Z",
     "shell.execute_reply": "2021-09-06T13:34:34.073922Z",
     "shell.execute_reply.started": "2021-09-06T13:34:33.520257Z"
    }
   },
   "outputs": [],
   "source": [
    "train_images = preprocessing_fn(train_images)\n",
    "val_images = preprocessing_fn(val_images)"
   ]
  },
  {
   "cell_type": "code",
   "execution_count": null,
   "metadata": {},
   "outputs": [],
   "source": [
    "hist = []"
   ]
  },
  {
   "cell_type": "code",
   "execution_count": null,
   "metadata": {},
   "outputs": [],
   "source": [
    "hist.append(model.fit(x=train_images, y=train_masks,\n",
    "    batch_size=BATCH_SIZE, epochs=EPOCHS,\n",
    "    validation_data=(val_images, val_masks)).history)"
   ]
  },
  {
   "cell_type": "code",
   "execution_count": null,
   "metadata": {},
   "outputs": [],
   "source": [
    "print('tversky: {0} \\t f1-score: {1} \\t iou-score: {2} \\t loss: {3}'.format(hist[0]['val_tversky'][-1], hist[0]['val_f1-score'][-1],\n",
    "                                                                            hist[0]['val_iou_score'][-1], hist[0]['val_loss'][-1]) )"
   ]
  },
  {
   "cell_type": "code",
   "execution_count": null,
   "metadata": {},
   "outputs": [],
   "source": [
    "idx = 6\n",
    "fig, axes = plt.subplots(1, 2, figsize=(20,8))\n",
    "losses_measures = {k: hist[idx][k] for k in ('loss', 'val_loss')}\n",
    "metric_measures = hist[idx].copy()\n",
    "metric_measures.pop('loss')\n",
    "metric_measures.pop('val_loss')\n",
    "\n",
    "pd.DataFrame(losses_measures).plot(ax=axes[0])\n",
    "pd.DataFrame(metric_measures).plot(ax=axes[1])\n",
    "\n",
    "plt.savefig('./build-40-bce-IOU-f1-12batch.png')\n",
    "plt.show()"
   ]
  },
  {
   "cell_type": "code",
   "execution_count": null,
   "metadata": {
    "execution": {
     "iopub.execute_input": "2021-09-06T13:35:02.533383Z",
     "iopub.status.busy": "2021-09-06T13:35:02.533037Z",
     "iopub.status.idle": "2021-09-06T13:35:05.234522Z",
     "shell.execute_reply": "2021-09-06T13:35:05.233638Z",
     "shell.execute_reply.started": "2021-09-06T13:35:02.533334Z"
    }
   },
   "outputs": [],
   "source": [
    "#dir_weights='../input/buildingweights/weights-unet-satellite_10_64.h5'\n",
    "#model.save_weights(f'./weights-unet-satellite_tversky_{EPOCHS}_{BATCH_SIZE}.h5')\n",
    "model.load_weights(f'../input/buildingweights/weights-unet-satellite_tversky_{EPOCHS}_{BATCH_SIZE}.h5')"
   ]
  },
  {
   "cell_type": "code",
   "execution_count": null,
   "metadata": {
    "execution": {
     "iopub.execute_input": "2021-09-06T13:35:06.120117Z",
     "iopub.status.busy": "2021-09-06T13:35:06.119776Z",
     "iopub.status.idle": "2021-09-06T13:35:09.297593Z",
     "shell.execute_reply": "2021-09-06T13:35:09.296647Z",
     "shell.execute_reply.started": "2021-09-06T13:35:06.120082Z"
    }
   },
   "outputs": [],
   "source": [
    "test_images_paths, test_masks_paths = utils.get_images_paths(x_test_dir, y_test_dir)\n",
    "test_images, test_masks = utils.load_preprocess_images(test_images_paths, test_masks_paths, (PATCH_WIDTH, PATCH_HEIGHT), (256, 256), 2, class_rgb_values)\n",
    "test_images = np.array(test_images)\n",
    "test_images_real = test_images.copy()\n",
    "test_masks = np.array(test_masks)\n",
    "preprocessing_fn = sm.get_preprocessing(ENCODER)\n",
    "test_images = preprocessing_fn(test_images)"
   ]
  },
  {
   "cell_type": "code",
   "execution_count": null,
   "metadata": {
    "execution": {
     "iopub.execute_input": "2021-09-06T13:35:09.598503Z",
     "iopub.status.busy": "2021-09-06T13:35:09.598159Z",
     "iopub.status.idle": "2021-09-06T13:35:24.743086Z",
     "shell.execute_reply": "2021-09-06T13:35:24.742212Z",
     "shell.execute_reply.started": "2021-09-06T13:35:09.598473Z"
    }
   },
   "outputs": [],
   "source": [
    "model.evaluate(test_images, test_masks)"
   ]
  },
  {
   "cell_type": "code",
   "execution_count": null,
   "metadata": {
    "execution": {
     "iopub.execute_input": "2021-09-06T13:35:24.746201Z",
     "iopub.status.busy": "2021-09-06T13:35:24.745931Z",
     "iopub.status.idle": "2021-09-06T13:35:25.567667Z",
     "shell.execute_reply": "2021-09-06T13:35:25.566773Z",
     "shell.execute_reply.started": "2021-09-06T13:35:24.746174Z"
    }
   },
   "outputs": [],
   "source": [
    "pred = model.predict(test_images)"
   ]
  },
  {
   "cell_type": "code",
   "execution_count": null,
   "metadata": {
    "execution": {
     "iopub.execute_input": "2021-09-06T13:35:25.569756Z",
     "iopub.status.busy": "2021-09-06T13:35:25.569401Z",
     "iopub.status.idle": "2021-09-06T13:35:29.020918Z",
     "shell.execute_reply": "2021-09-06T13:35:29.019906Z",
     "shell.execute_reply.started": "2021-09-06T13:35:25.56972Z"
    }
   },
   "outputs": [],
   "source": [
    "#idx = np.random.randint(len(test_images))\n",
    "for idx in [9, 31, 32, 81, 74, 6, 24, 64]:\n",
    "    print(idx)\n",
    "    utils.visualize(\n",
    "            original_image = test_images_real[idx],\n",
    "            ground_truth = utils.reverse_one_hot(test_masks[idx]),\n",
    "            pred_mask = utils.reverse_one_hot(pred[idx])\n",
    "        )\n",
    "    plt.savefig(f'./pred_img_unet-satellite_tversky_{idx}.png')"
   ]
  },
  {
   "cell_type": "markdown",
   "metadata": {},
   "source": [
    "## CityScapes"
   ]
  },
  {
   "cell_type": "code",
   "execution_count": 3,
   "metadata": {
    "execution": {
     "iopub.execute_input": "2021-09-07T15:56:28.331360Z",
     "iopub.status.busy": "2021-09-07T15:56:28.330717Z",
     "iopub.status.idle": "2021-09-07T15:56:36.712115Z",
     "shell.execute_reply": "2021-09-07T15:56:36.711264Z",
     "shell.execute_reply.started": "2021-09-07T15:56:28.331320Z"
    }
   },
   "outputs": [
    {
     "name": "stdout",
     "output_type": "stream",
     "text": [
      "Downloading data from https://github.com/fchollet/deep-learning-models/releases/download/v0.1/vgg16_weights_tf_dim_ordering_tf_kernels_notop.h5\n",
      "58892288/58889256 [==============================] - 1s 0us/step\n"
     ]
    }
   ],
   "source": [
    "DATA_DIR = '../input/cityscape/'\n",
    "\n",
    "x_train_dir = os.path.join(DATA_DIR, 'train/images')\n",
    "y_train_dir = os.path.join(DATA_DIR, 'train/annotations')\n",
    "\n",
    "x_valid_dir = os.path.join(DATA_DIR, 'val/images')\n",
    "y_valid_dir = os.path.join(DATA_DIR, 'val/annotations')\n",
    "\n",
    "x_test_dir = os.path.join(DATA_DIR, 'test/images')\n",
    "y_test_dir = os.path.join(DATA_DIR, 'test/annotations')\n",
    "\n",
    "\n",
    "ENCODER = 'vgg16'\n",
    "ENCODER_WEIGHTS = 'imagenet'\n",
    "class_values = utils_cs.grouped_labels\n",
    "\n",
    "N_CLASSES = len(class_values)+1\n",
    "\n",
    "ACTIVATION = 'softmax'\n",
    "BATCH_SIZE = 32\n",
    "EPOCHS = 40\n",
    "\n",
    "model = Unet(ENCODER, encoder_weights=ENCODER_WEIGHTS, classes=N_CLASSES, activation=ACTIVATION,\n",
    "         encoder_freeze = True)\n",
    "optimizer = keras.optimizers.Adam(1e-3) # to test SGD\n",
    "#optimizer = keras.optimizers.SGD(1e-1, momentum=0.9, nesterov=True)\n",
    "preprocessing_fn = sm.get_preprocessing(ENCODER)\n",
    "\n",
    "fs= FScore()\n",
    "model.compile(optimizer=optimizer, loss=cce_jaccard_loss, metrics=[iou_score, fs])\n",
    "\n",
    "training_dataset = utils_cs.Dataset(x_train_dir, y_train_dir, class_values=class_values,\n",
    "                 preprocessing=utils_cs.get_preprocessing(preprocessing_fn))\n",
    "\n",
    "valid_dataset = utils_cs.Dataset(x_valid_dir, y_valid_dir, class_values=class_values,\n",
    "                 preprocessing=utils_cs.get_preprocessing(preprocessing_fn))\n",
    "\n",
    "train_dataloader = utils_cs.Dataloder(training_dataset, batch_size=BATCH_SIZE, shuffle=True)\n",
    "valid_dataloader = utils_cs.Dataloder(valid_dataset, batch_size=1, shuffle=False)"
   ]
  },
  {
   "cell_type": "code",
   "execution_count": null,
   "metadata": {
    "execution": {
     "iopub.execute_input": "2021-09-07T13:09:06.444131Z",
     "iopub.status.busy": "2021-09-07T13:09:06.443775Z",
     "iopub.status.idle": "2021-09-07T13:09:06.761637Z",
     "shell.execute_reply": "2021-09-07T13:09:06.760822Z",
     "shell.execute_reply.started": "2021-09-07T13:09:06.444101Z"
    }
   },
   "outputs": [],
   "source": [
    "mask_example = training_dataset.__getitem__(1)[1] #get item retrieve a mask with shape [256, 256, len(grouped_labels)+1]\n",
    "\n",
    "mask_example = training_dataset.convert_to_single_mask(mask_example) #convert it to [256, 256] each cell made of the specific grouped_labels \n",
    "result = utils_cs.colour_code_segmentation(mask_example) #colour the mask by using the dictionary, group_label -> pixel\n",
    "plt.imshow(result)\n",
    "plt.show()"
   ]
  },
  {
   "cell_type": "code",
   "execution_count": 4,
   "metadata": {
    "execution": {
     "iopub.execute_input": "2021-09-07T15:56:36.713892Z",
     "iopub.status.busy": "2021-09-07T15:56:36.713525Z",
     "iopub.status.idle": "2021-09-07T15:56:36.717992Z",
     "shell.execute_reply": "2021-09-07T15:56:36.717190Z",
     "shell.execute_reply.started": "2021-09-07T15:56:36.713850Z"
    }
   },
   "outputs": [],
   "source": [
    "history=[]"
   ]
  },
  {
   "cell_type": "code",
   "execution_count": 14,
   "metadata": {
    "execution": {
     "iopub.execute_input": "2021-09-07T17:30:44.523469Z",
     "iopub.status.busy": "2021-09-07T17:30:44.523112Z",
     "iopub.status.idle": "2021-09-07T17:30:44.543016Z",
     "shell.execute_reply": "2021-09-07T17:30:44.542255Z",
     "shell.execute_reply.started": "2021-09-07T17:30:44.523438Z"
    }
   },
   "outputs": [],
   "source": [
    "optimizer = keras.optimizers.Adam(1e-4) \n",
    "model.compile(optimizer=optimizer, loss=cce_jaccard_loss, metrics=[iou_score, fs])\n"
   ]
  },
  {
   "cell_type": "code",
   "execution_count": 15,
   "metadata": {
    "execution": {
     "iopub.execute_input": "2021-09-07T17:30:47.569107Z",
     "iopub.status.busy": "2021-09-07T17:30:47.568749Z",
     "iopub.status.idle": "2021-09-07T18:14:16.185889Z",
     "shell.execute_reply": "2021-09-07T18:14:16.185072Z",
     "shell.execute_reply.started": "2021-09-07T17:30:47.569078Z"
    }
   },
   "outputs": [
    {
     "name": "stdout",
     "output_type": "stream",
     "text": [
      "Epoch 1/20\n",
      "35/35 [==============================] - 135s 4s/step - loss: 0.2070 - iou_score: 0.8225 - f1-score: 0.8950 - val_loss: 0.5163 - val_iou_score: 0.5801 - val_f1-score: 0.6789\n",
      "Epoch 2/20\n",
      "35/35 [==============================] - 132s 4s/step - loss: 0.2004 - iou_score: 0.8284 - f1-score: 0.8994 - val_loss: 0.5179 - val_iou_score: 0.5784 - val_f1-score: 0.6773\n",
      "Epoch 3/20\n",
      "35/35 [==============================] - 131s 4s/step - loss: 0.1928 - iou_score: 0.8343 - f1-score: 0.9031 - val_loss: 0.5144 - val_iou_score: 0.5808 - val_f1-score: 0.6802\n",
      "Epoch 4/20\n",
      "35/35 [==============================] - 131s 4s/step - loss: 0.1970 - iou_score: 0.8317 - f1-score: 0.9016 - val_loss: 0.5186 - val_iou_score: 0.5781 - val_f1-score: 0.6780\n",
      "Epoch 5/20\n",
      "35/35 [==============================] - 132s 4s/step - loss: 0.1971 - iou_score: 0.8314 - f1-score: 0.9014 - val_loss: 0.5199 - val_iou_score: 0.5778 - val_f1-score: 0.6777\n",
      "Epoch 6/20\n",
      "35/35 [==============================] - 131s 4s/step - loss: 0.1885 - iou_score: 0.8383 - f1-score: 0.9057 - val_loss: 0.5181 - val_iou_score: 0.5779 - val_f1-score: 0.6770\n",
      "Epoch 7/20\n",
      "35/35 [==============================] - 130s 4s/step - loss: 0.1981 - iou_score: 0.8309 - f1-score: 0.9012 - val_loss: 0.5199 - val_iou_score: 0.5775 - val_f1-score: 0.6772\n",
      "Epoch 8/20\n",
      "35/35 [==============================] - 131s 4s/step - loss: 0.1903 - iou_score: 0.8371 - f1-score: 0.9048 - val_loss: 0.5230 - val_iou_score: 0.5756 - val_f1-score: 0.6758\n",
      "Epoch 9/20\n",
      "35/35 [==============================] - 130s 4s/step - loss: 0.1889 - iou_score: 0.8384 - f1-score: 0.9059 - val_loss: 0.5266 - val_iou_score: 0.5731 - val_f1-score: 0.6732\n",
      "Epoch 10/20\n",
      "35/35 [==============================] - 130s 4s/step - loss: 0.1904 - iou_score: 0.8369 - f1-score: 0.9048 - val_loss: 0.5200 - val_iou_score: 0.5777 - val_f1-score: 0.6767\n",
      "Epoch 11/20\n",
      "35/35 [==============================] - 130s 4s/step - loss: 0.1898 - iou_score: 0.8373 - f1-score: 0.9051 - val_loss: 0.5249 - val_iou_score: 0.5751 - val_f1-score: 0.6751\n",
      "Epoch 12/20\n",
      "35/35 [==============================] - 129s 4s/step - loss: 0.1863 - iou_score: 0.8401 - f1-score: 0.9065 - val_loss: 0.5231 - val_iou_score: 0.5761 - val_f1-score: 0.6759\n",
      "Epoch 13/20\n",
      "35/35 [==============================] - 130s 4s/step - loss: 0.1889 - iou_score: 0.8384 - f1-score: 0.9058 - val_loss: 0.5236 - val_iou_score: 0.5761 - val_f1-score: 0.6760\n",
      "Epoch 14/20\n",
      "35/35 [==============================] - 129s 4s/step - loss: 0.1839 - iou_score: 0.8425 - f1-score: 0.9084 - val_loss: 0.5279 - val_iou_score: 0.5732 - val_f1-score: 0.6735\n",
      "Epoch 15/20\n",
      "35/35 [==============================] - 130s 4s/step - loss: 0.1872 - iou_score: 0.8405 - f1-score: 0.9071 - val_loss: 0.5280 - val_iou_score: 0.5736 - val_f1-score: 0.6741\n",
      "Epoch 16/20\n",
      "35/35 [==============================] - 130s 4s/step - loss: 0.1842 - iou_score: 0.8424 - f1-score: 0.9083 - val_loss: 0.5222 - val_iou_score: 0.5776 - val_f1-score: 0.6769\n",
      "Epoch 17/20\n",
      "35/35 [==============================] - 129s 4s/step - loss: 0.1883 - iou_score: 0.8392 - f1-score: 0.9064 - val_loss: 0.5277 - val_iou_score: 0.5736 - val_f1-score: 0.6733\n",
      "Epoch 18/20\n",
      "35/35 [==============================] - 129s 4s/step - loss: 0.1840 - iou_score: 0.8428 - f1-score: 0.9086 - val_loss: 0.5279 - val_iou_score: 0.5739 - val_f1-score: 0.6739\n",
      "Epoch 19/20\n",
      "35/35 [==============================] - 129s 4s/step - loss: 0.1882 - iou_score: 0.8395 - f1-score: 0.9069 - val_loss: 0.5253 - val_iou_score: 0.5759 - val_f1-score: 0.6756\n",
      "Epoch 20/20\n",
      "35/35 [==============================] - 129s 4s/step - loss: 0.1842 - iou_score: 0.8426 - f1-score: 0.9086 - val_loss: 0.5260 - val_iou_score: 0.5755 - val_f1-score: 0.6748\n"
     ]
    }
   ],
   "source": [
    "# train model\n",
    "history.append(model.fit(\n",
    "    train_dataloader, \n",
    "    steps_per_epoch=len(train_dataloader), \n",
    "    epochs=20, \n",
    "    validation_data=valid_dataloader, \n",
    "    validation_steps=len(valid_dataloader)\n",
    ").history)"
   ]
  },
  {
   "cell_type": "code",
   "execution_count": 19,
   "metadata": {
    "execution": {
     "iopub.execute_input": "2021-09-07T18:21:14.208789Z",
     "iopub.status.busy": "2021-09-07T18:21:14.208457Z",
     "iopub.status.idle": "2021-09-07T18:21:14.431975Z",
     "shell.execute_reply": "2021-09-07T18:21:14.431157Z",
     "shell.execute_reply.started": "2021-09-07T18:21:14.208758Z"
    }
   },
   "outputs": [
    {
     "data": {
      "image/png": "[encoded data removed]",
      "text/plain": [
       "<Figure size 576x360 with 1 Axes>"
      ]
     },
     "metadata": {
      "needs_background": "light"
     },
     "output_type": "display_data"
    }
   ],
   "source": [
    "pd.DataFrame(history[0]).plot(figsize=(8,5))\n",
    "plt.grid(True)\n",
    "plt.show()"
   ]
  },
  {
   "cell_type": "code",
   "execution_count": 27,
   "metadata": {
    "execution": {
     "iopub.execute_input": "2021-09-07T18:33:10.961651Z",
     "iopub.status.busy": "2021-09-07T18:33:10.961288Z",
     "iopub.status.idle": "2021-09-07T18:33:11.222791Z",
     "shell.execute_reply": "2021-09-07T18:33:11.221946Z",
     "shell.execute_reply.started": "2021-09-07T18:33:10.961606Z"
    }
   },
   "outputs": [],
   "source": [
    "dir_weights = './'\n",
    "model.save_weights(f'{dir_weights}/weights-unet-cityscape_{100}_{BATCH_SIZE}.h5')"
   ]
  },
  {
   "cell_type": "code",
   "execution_count": 6,
   "metadata": {
    "execution": {
     "iopub.execute_input": "2021-09-07T15:57:52.642993Z",
     "iopub.status.busy": "2021-09-07T15:57:52.642616Z",
     "iopub.status.idle": "2021-09-07T15:57:54.915452Z",
     "shell.execute_reply": "2021-09-07T15:57:54.914599Z",
     "shell.execute_reply.started": "2021-09-07T15:57:52.642961Z"
    }
   },
   "outputs": [],
   "source": [
    "dir_weights = '../input/buildingweights'\n",
    "#model.save_weights(f'{dir_weights}/weights-unet-cityscape_{EPOCHS}_{BATCH_SIZE}.h5')\n",
    "model.load_weights(f'{dir_weights}/weights-unet-cityscape_{EPOCHS}_{BATCH_SIZE}.h5')"
   ]
  },
  {
   "cell_type": "code",
   "execution_count": 30,
   "metadata": {
    "execution": {
     "iopub.execute_input": "2021-09-07T18:52:35.509478Z",
     "iopub.status.busy": "2021-09-07T18:52:35.509122Z",
     "iopub.status.idle": "2021-09-07T18:54:03.996948Z",
     "shell.execute_reply": "2021-09-07T18:54:03.996056Z",
     "shell.execute_reply.started": "2021-09-07T18:52:35.509448Z"
    }
   },
   "outputs": [
    {
     "name": "stdout",
     "output_type": "stream",
     "text": [
      "472/472 [==============================] - 44s 94ms/step - loss: 0.5133 - iou_score: 0.5847 - f1-score: 0.6778\n"
     ]
    }
   ],
   "source": [
    "test_dataset = utils_cs.Dataset(x_test_dir, y_test_dir, class_values=class_values, preprocessing=utils_cs.get_preprocessing(preprocessing_fn))\n",
    "test_dataloader = utils_cs.Dataloder(test_dataset, batch_size=1, shuffle=False)\n",
    "evaluation = model.evaluate(test_dataloader)\n",
    "pred = model.predict(test_dataloader)\n",
    "result = np.argmax(pred,axis=3)"
   ]
  },
  {
   "cell_type": "code",
   "execution_count": 29,
   "metadata": {
    "execution": {
     "iopub.execute_input": "2021-09-07T18:46:19.491369Z",
     "iopub.status.busy": "2021-09-07T18:46:19.491042Z",
     "iopub.status.idle": "2021-09-07T18:46:20.026338Z",
     "shell.execute_reply": "2021-09-07T18:46:20.025331Z",
     "shell.execute_reply.started": "2021-09-07T18:46:19.491333Z"
    }
   },
   "outputs": [
    {
     "data": {
      "image/png": "[encoded data removed]",
      "text/plain": [
       "<Figure size 648x432 with 2 Axes>"
      ]
     },
     "metadata": {
      "needs_background": "light"
     },
     "output_type": "display_data"
    }
   ],
   "source": [
    "idx = np.random.randint(len(test_dataset))\n",
    "\n",
    "res_seg = utils_cs.colour_code_segmentation(result[idx]) #colour the mask by using the dictionary, group_label -> pixel\n",
    "\n",
    "mask_example = test_dataset.__getitem__(idx)[1]\n",
    "mask_example = test_dataset.convert_to_single_mask(mask_example) \n",
    "result_example = utils_cs.colour_code_segmentation(mask_example)\n",
    "\n",
    "fig, axes = plt.subplots(1, 2,figsize=(9,6))\n",
    "_ = axes[0].imshow(res_seg)\n",
    "_ = axes[1].imshow(result_example)\n",
    "plt.show()"
   ]
  }
 ],
 "metadata": {
  "kernelspec": {
   "display_name": "Python 3",
   "language": "python",
   "name": "python3"
  },
  "language_info": {
   "codemirror_mode": {
    "name": "ipython",
    "version": 3
   },
   "file_extension": ".py",
   "mimetype": "text/x-python",
   "name": "python",
   "nbconvert_exporter": "python",
   "pygments_lexer": "ipython3",
   "version": "3.8.5"
  }
 },
 "nbformat": 4,
 "nbformat_minor": 4
}
