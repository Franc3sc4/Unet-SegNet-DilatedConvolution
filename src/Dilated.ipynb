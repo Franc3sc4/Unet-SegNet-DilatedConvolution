{
 "cells": [
  {
   "cell_type": "code",
   "execution_count": 2,
   "metadata": {
    "execution": {
     "iopub.execute_input": "2021-08-19T14:00:23.000548Z",
     "iopub.status.busy": "2021-08-19T14:00:23.000245Z",
     "iopub.status.idle": "2021-08-19T14:00:37.158080Z",
     "shell.execute_reply": "2021-08-19T14:00:37.157195Z",
     "shell.execute_reply.started": "2021-08-19T14:00:23.000522Z"
    }
   },
   "outputs": [
    {
     "name": "stdout",
     "output_type": "stream",
     "text": [
      "Collecting patchify\n",
      "  Downloading patchify-0.2.3-py3-none-any.whl (6.6 kB)\n",
      "Requirement already satisfied: albumentations in /opt/conda/lib/python3.7/site-packages (1.0.1)\n",
      "Requirement already satisfied: numpy<2,>=1 in /opt/conda/lib/python3.7/site-packages (from patchify) (1.19.5)\n",
      "Requirement already satisfied: scipy in /opt/conda/lib/python3.7/site-packages (from albumentations) (1.6.3)\n",
      "Requirement already satisfied: PyYAML in /opt/conda/lib/python3.7/site-packages (from albumentations) (5.4.1)\n",
      "Requirement already satisfied: scikit-image>=0.16.1 in /opt/conda/lib/python3.7/site-packages (from albumentations) (0.18.2)\n",
      "Requirement already satisfied: opencv-python-headless>=4.1.1 in /opt/conda/lib/python3.7/site-packages (from albumentations) (4.5.2.54)\n",
      "Requirement already satisfied: matplotlib!=3.0.0,>=2.0.0 in /opt/conda/lib/python3.7/site-packages (from scikit-image>=0.16.1->albumentations) (3.4.2)\n",
      "Requirement already satisfied: pillow!=7.1.0,!=7.1.1,>=4.3.0 in /opt/conda/lib/python3.7/site-packages (from scikit-image>=0.16.1->albumentations) (8.2.0)\n",
      "Requirement already satisfied: imageio>=2.3.0 in /opt/conda/lib/python3.7/site-packages (from scikit-image>=0.16.1->albumentations) (2.9.0)\n",
      "Requirement already satisfied: networkx>=2.0 in /opt/conda/lib/python3.7/site-packages (from scikit-image>=0.16.1->albumentations) (2.5)\n",
      "Requirement already satisfied: tifffile>=2019.7.26 in /opt/conda/lib/python3.7/site-packages (from scikit-image>=0.16.1->albumentations) (2021.7.2)\n",
      "Requirement already satisfied: PyWavelets>=1.1.1 in /opt/conda/lib/python3.7/site-packages (from scikit-image>=0.16.1->albumentations) (1.1.1)\n",
      "Requirement already satisfied: kiwisolver>=1.0.1 in /opt/conda/lib/python3.7/site-packages (from matplotlib!=3.0.0,>=2.0.0->scikit-image>=0.16.1->albumentations) (1.3.1)\n",
      "Requirement already satisfied: python-dateutil>=2.7 in /opt/conda/lib/python3.7/site-packages (from matplotlib!=3.0.0,>=2.0.0->scikit-image>=0.16.1->albumentations) (2.8.1)\n",
      "Requirement already satisfied: cycler>=0.10 in /opt/conda/lib/python3.7/site-packages (from matplotlib!=3.0.0,>=2.0.0->scikit-image>=0.16.1->albumentations) (0.10.0)\n",
      "Requirement already satisfied: pyparsing>=2.2.1 in /opt/conda/lib/python3.7/site-packages (from matplotlib!=3.0.0,>=2.0.0->scikit-image>=0.16.1->albumentations) (2.4.7)\n",
      "Requirement already satisfied: six in /opt/conda/lib/python3.7/site-packages (from cycler>=0.10->matplotlib!=3.0.0,>=2.0.0->scikit-image>=0.16.1->albumentations) (1.15.0)\n",
      "Requirement already satisfied: decorator>=4.3.0 in /opt/conda/lib/python3.7/site-packages (from networkx>=2.0->scikit-image>=0.16.1->albumentations) (5.0.9)\n",
      "Installing collected packages: patchify\n",
      "Successfully installed patchify-0.2.3\n",
      "\u001b[33mWARNING: Running pip as root will break packages and permissions. You should install packages reliably by using venv: https://pip.pypa.io/warnings/venv\u001b[0m\n",
      "\u001b[33mWARNING: Running pip as root will break packages and permissions. You should install packages reliably by using venv: https://pip.pypa.io/warnings/venv\u001b[0m\n",
      "env: SM_FRAMEWORK=tf.keras\n"
     ]
    }
   ],
   "source": [
    "!pip install patchify albumentations\n",
    "!pip install -q -U segmentation-models\n",
    "%env SM_FRAMEWORK=tf.keras"
   ]
  },
  {
   "cell_type": "code",
   "execution_count": 26,
   "metadata": {
    "execution": {
     "iopub.execute_input": "2021-08-19T14:31:54.405826Z",
     "iopub.status.busy": "2021-08-19T14:31:54.405490Z",
     "iopub.status.idle": "2021-08-19T14:31:54.412437Z",
     "shell.execute_reply": "2021-08-19T14:31:54.411638Z",
     "shell.execute_reply.started": "2021-08-19T14:31:54.405795Z"
    }
   },
   "outputs": [],
   "source": [
    "import os, cv2\n",
    "import numpy as np\n",
    "import pandas as pd\n",
    "import random, tqdm\n",
    "import seaborn as sns\n",
    "import matplotlib.pyplot as plt\n",
    "\n",
    "from tensorflow import keras\n",
    "import torch\n",
    "import torch.nn as nn\n",
    "from torch.utils.data import DataLoader\n",
    "import albumentations as album\n",
    "from patchify import patchify\n",
    "import utils, utils_cityscapes as utils_cs\n",
    "from segmentation_models import Unet\n",
    "from segmentation_models import get_preprocessing\n",
    "from segmentation_models.losses import bce_jaccard_loss, cce_jaccard_loss\n",
    "from segmentation_models.metrics import iou_score, f1_score, IOUScore, FScore\n",
    "from segmentation_models.metrics import precision, recall\n",
    "\n",
    "import tensorflow as tf\n",
    "from tensorflow.keras.models import Model\n",
    "from tensorflow.keras.layers import Input\n",
    "from tensorflow.keras.layers import Activation, Reshape, Convolution2D, BatchNormalization"
   ]
  },
  {
   "cell_type": "code",
   "execution_count": 5,
   "metadata": {
    "execution": {
     "iopub.execute_input": "2021-08-19T13:13:31.994186Z",
     "iopub.status.busy": "2021-08-19T13:13:31.993765Z",
     "iopub.status.idle": "2021-08-19T13:13:32.002877Z",
     "shell.execute_reply": "2021-08-19T13:13:32.001340Z",
     "shell.execute_reply.started": "2021-08-19T13:13:31.994154Z"
    }
   },
   "outputs": [],
   "source": [
    "DATA_DIR = '../input/massachusetts-buildings-dataset/tiff/'\n",
    "PATCH_HEIGHT = 500\n",
    "PATCH_WIDTH = 500\n",
    "\n",
    "x_train_dir = os.path.join(DATA_DIR, 'train')\n",
    "y_train_dir = os.path.join(DATA_DIR, 'train_labels')\n",
    "\n",
    "x_valid_dir = os.path.join(DATA_DIR, 'val')\n",
    "y_valid_dir = os.path.join(DATA_DIR, 'val_labels')\n",
    "\n",
    "x_test_dir = os.path.join(DATA_DIR, 'test')\n",
    "y_test_dir = os.path.join(DATA_DIR, 'test_labels')\n"
   ]
  },
  {
   "cell_type": "code",
   "execution_count": 10,
   "metadata": {
    "execution": {
     "iopub.execute_input": "2021-08-19T13:14:33.078898Z",
     "iopub.status.busy": "2021-08-19T13:14:33.078378Z",
     "iopub.status.idle": "2021-08-19T13:14:33.099216Z",
     "shell.execute_reply": "2021-08-19T13:14:33.098033Z",
     "shell.execute_reply.started": "2021-08-19T13:14:33.078864Z"
    }
   },
   "outputs": [
    {
     "name": "stdout",
     "output_type": "stream",
     "text": [
      "All dataset classes and their corresponding RGB values in labels:\n",
      "Class Names:  ['background', 'building']\n",
      "Class RGB values:  [[0, 0, 0], [255, 255, 255]]\n",
      "Selected classes and their corresponding RGB values in labels:\n",
      "Class Names:  ['background', 'building']\n",
      "Class RGB values:  [[0, 0, 0], [255, 255, 255]]\n"
     ]
    }
   ],
   "source": [
    "# [0, 0, 0] -> background [255, 255, 255] -> Buldings\n",
    "\n",
    "class_dict = pd.read_csv(\"../input/massachusetts-buildings-dataset/label_class_dict.csv\")\n",
    "# Get class names\n",
    "class_names = class_dict['name'].tolist()\n",
    "# Get class RGB values\n",
    "class_rgb_values = class_dict[['r','g','b']].values.tolist()\n",
    "\n",
    "print('All dataset classes and their corresponding RGB values in labels:')\n",
    "print('Class Names: ', class_names)\n",
    "print('Class RGB values: ', class_rgb_values)\n",
    "# Useful to shortlist specific classes in datasets with large number of classes\n",
    "select_classes = ['background', 'building']\n",
    "# Get RGB values of required classes\n",
    "select_class_indices = [class_names.index(cls.lower()) for cls in select_classes]\n",
    "select_class_rgb_values =  np.array(class_rgb_values)[select_class_indices]\n",
    "\n",
    "print('Selected classes and their corresponding RGB values in labels:')\n",
    "print('Class Names: ', class_names)\n",
    "print('Class RGB values: ', class_rgb_values)"
   ]
  },
  {
   "cell_type": "code",
   "execution_count": 11,
   "metadata": {
    "execution": {
     "iopub.execute_input": "2021-08-19T13:14:38.205115Z",
     "iopub.status.busy": "2021-08-19T13:14:38.204606Z",
     "iopub.status.idle": "2021-08-19T13:15:28.489549Z",
     "shell.execute_reply": "2021-08-19T13:15:28.488316Z",
     "shell.execute_reply.started": "2021-08-19T13:14:38.205078Z"
    }
   },
   "outputs": [],
   "source": [
    "trainimg_dir, trainmsk_dir = utils.get_images_paths(x_train_dir, y_train_dir)\n",
    "valimg_dir, valmsk_dir = utils.get_images_paths(x_valid_dir, y_valid_dir)\n",
    "test_images_paths, test_masks_paths = utils.get_images_paths(x_test_dir, y_test_dir)\n",
    "\n",
    "train_images, train_masks = utils.load_preprocess_images(trainimg_dir, trainmsk_dir, (PATCH_WIDTH, PATCH_HEIGHT), (256, 256), 2, class_rgb_values)\n",
    "val_images, val_masks = utils.load_preprocess_images(valimg_dir, valmsk_dir, (PATCH_WIDTH, PATCH_HEIGHT), (256, 256), 2, class_rgb_values)\n"
   ]
  },
  {
   "cell_type": "code",
   "execution_count": null,
   "metadata": {},
   "outputs": [],
   "source": [
    "from tensorflow.keras import backend as K\n",
    "\n",
    "def dice_coef(y_true, y_pred, smooth=1):\n",
    "    y_true_f = K.flatten(y_true)\n",
    "    y_pred_f = K.flatten(y_pred)\n",
    "    intersection = K.sum(y_true_f * y_pred_f)\n",
    "    return (2. * intersection + smooth) / (K.sum(y_true_f) + K.sum(y_pred_f) + smooth)\n",
    "\n",
    "\n",
    "def dice_coef_loss(y_true, y_pred):\n",
    "    return 1 - dice_coef(y_true, y_pred)\n",
    "\n",
    "\n",
    "def tversky(y_true, y_pred, smooth=1, alpha=1):\n",
    "    y_true_pos = K.flatten(y_true)\n",
    "    y_pred_pos = K.flatten(y_pred)\n",
    "    true_pos = K.sum(y_true_pos * y_pred_pos)\n",
    "    false_neg = K.sum(y_true_pos * (1 - y_pred_pos))\n",
    "    false_pos = K.sum((1 - y_true_pos) * y_pred_pos)\n",
    "    return (true_pos + smooth) / (true_pos + alpha * false_neg + (1 - alpha) * false_pos + smooth)\n",
    "\n",
    "\n",
    "def tversky_loss(y_true, y_pred, alpha=1):\n",
    "    return 1 - tversky(y_true, y_pred, alpha=alpha)\n",
    "\n",
    "\n",
    "def focal_tversky_loss(y_true, y_pred, gamma=0.75, alpha=0.75):\n",
    "    tv = tversky(y_true, y_pred, alpha=alpha)\n",
    "    return K.pow((1 - tv), gamma)"
   ]
  },
  {
   "cell_type": "code",
   "execution_count": 23,
   "metadata": {
    "execution": {
     "iopub.execute_input": "2021-08-19T14:31:14.807660Z",
     "iopub.status.busy": "2021-08-19T14:31:14.807344Z",
     "iopub.status.idle": "2021-08-19T14:31:14.826167Z",
     "shell.execute_reply": "2021-08-19T14:31:14.825260Z",
     "shell.execute_reply.started": "2021-08-19T14:31:14.807630Z"
    }
   },
   "outputs": [],
   "source": [
    "def dilated(num_of_classes, input_shape):\n",
    "    \n",
    "    inputs = Input(shape=input_shape)\n",
    "    # Front\n",
    "    conv_1 = Convolution2D(64, (3,3), padding=\"same\")(inputs)\n",
    "    conv_1 = BatchNormalization()(conv_1)\n",
    "    conv_1 = Activation(\"relu\")(conv_1)\n",
    "    conv_2 = Convolution2D(64, (3,3), padding=\"same\")(conv_1)\n",
    "    conv_2 = BatchNormalization()(conv_2)\n",
    "    conv_2 = Activation(\"relu\")(conv_2)\n",
    "\n",
    "    conv_3 = Convolution2D(128, (3,3), padding=\"same\", dilation_rate=2)(conv_2)\n",
    "    conv_3 = BatchNormalization()(conv_3)\n",
    "    conv_3 = Activation(\"relu\")(conv_3)\n",
    "    conv_4 = Convolution2D(128, (3,3), padding=\"same\", dilation_rate=2)(conv_3)\n",
    "    conv_4 = BatchNormalization()(conv_4)\n",
    "    conv_4 = Activation(\"relu\")(conv_4)\n",
    "\n",
    "    conv_5 = Convolution2D(256, (3,3), padding=\"same\", dilation_rate=3)(conv_4)\n",
    "    conv_5 = BatchNormalization()(conv_5)\n",
    "    conv_5 = Activation(\"relu\")(conv_5)\n",
    "    conv_6 = Convolution2D(256, (3,3), padding=\"same\", dilation_rate=3)(conv_5)\n",
    "    conv_6 = BatchNormalization()(conv_6)\n",
    "    conv_6 = Activation(\"relu\")(conv_6)\n",
    "    conv_7 = Convolution2D(256, (3,3), padding=\"same\", dilation_rate=3)(conv_6)\n",
    "    conv_7 = BatchNormalization()(conv_7)\n",
    "    conv_7 = Activation(\"relu\")(conv_7)\n",
    "    \n",
    "    # LFE\n",
    "    conv_8 = Convolution2D(128, (3,3), padding=\"same\", dilation_rate=3)(conv_7)\n",
    "    conv_8 = BatchNormalization()(conv_8)\n",
    "    conv_8 = Activation(\"relu\")(conv_8)\n",
    "    conv_9 = Convolution2D(128, (3,3), padding=\"same\", dilation_rate=3)(conv_8)\n",
    "    conv_9 = BatchNormalization()(conv_9)\n",
    "    conv_9 = Activation(\"relu\")(conv_9)\n",
    "    conv_10 = Convolution2D(128, (3,3), padding=\"same\", dilation_rate=3)(conv_9)\n",
    "    conv_10 = BatchNormalization()(conv_10)\n",
    "    conv_10 = Activation(\"relu\")(conv_10)\n",
    "\n",
    "    conv_11 = Convolution2D(128, (3,3), padding=\"same\", dilation_rate=2)(conv_10)\n",
    "    conv_11 = BatchNormalization()(conv_11)\n",
    "    conv_11 = Activation(\"relu\")(conv_11)\n",
    "    conv_12 = Convolution2D(128, (3,3), padding=\"same\", dilation_rate=2)(conv_11)\n",
    "    conv_12 = BatchNormalization()(conv_12)\n",
    "    conv_12 = Activation(\"relu\")(conv_12)\n",
    "    conv_13 = Convolution2D(128, (3,3), padding=\"same\")(conv_12)\n",
    "    conv_13 = BatchNormalization()(conv_13)\n",
    "    conv_13 = Activation(\"relu\")(conv_13)\n",
    "    conv_14 = Convolution2D(128, (3,3), padding=\"same\")(conv_13)\n",
    "    conv_14 = BatchNormalization()(conv_14)\n",
    "    conv_14 = Activation(\"relu\")(conv_14)\n",
    "    \n",
    "    # Head\n",
    "    conv_15 = Convolution2D(256, (7,7), padding=\"same\", dilation_rate=3)(conv_14)\n",
    "    conv_15 = BatchNormalization()(conv_15)\n",
    "    conv_15 = Activation(\"relu\")(conv_15)\n",
    "    conv_16 = Convolution2D(256, (1,1), padding=\"same\")(conv_15)\n",
    "    conv_16 = BatchNormalization()(conv_16)\n",
    "    conv_16 = Activation(\"relu\")(conv_16)\n",
    "    conv_17 = Convolution2D(num_of_classes, (1,1), padding=\"same\")(conv_16)\n",
    "    conv_17 = BatchNormalization()(conv_17)\n",
    "    if num_of_classes==2:\n",
    "        conv_17 = Activation(\"sigmoid\")(conv_17)\n",
    "    else:\n",
    "        conv_17 = Activation(\"softmax\")(conv_17)\n",
    "    model = Model(inputs=inputs, outputs=conv_17, name=\"Dilated\")\n",
    "\n",
    "    return model"
   ]
  },
  {
   "cell_type": "code",
   "execution_count": 24,
   "metadata": {
    "execution": {
     "iopub.execute_input": "2021-08-19T14:31:30.404305Z",
     "iopub.status.busy": "2021-08-19T14:31:30.403981Z",
     "iopub.status.idle": "2021-08-19T14:31:30.758252Z",
     "shell.execute_reply": "2021-08-19T14:31:30.757424Z",
     "shell.execute_reply.started": "2021-08-19T14:31:30.404277Z"
    }
   },
   "outputs": [
    {
     "name": "stdout",
     "output_type": "stream",
     "text": [
      "Model: \"Dilated\"\n",
      "_________________________________________________________________\n",
      "Layer (type)                 Output Shape              Param #   \n",
      "=================================================================\n",
      "input_10 (InputLayer)        [(None, 256, 256, 3)]     0         \n",
      "_________________________________________________________________\n",
      "conv2d_153 (Conv2D)          (None, 256, 256, 64)      1792      \n",
      "_________________________________________________________________\n",
      "batch_normalization_153 (Bat (None, 256, 256, 64)      256       \n",
      "_________________________________________________________________\n",
      "activation_153 (Activation)  (None, 256, 256, 64)      0         \n",
      "_________________________________________________________________\n",
      "conv2d_154 (Conv2D)          (None, 256, 256, 64)      36928     \n",
      "_________________________________________________________________\n",
      "batch_normalization_154 (Bat (None, 256, 256, 64)      256       \n",
      "_________________________________________________________________\n",
      "activation_154 (Activation)  (None, 256, 256, 64)      0         \n",
      "_________________________________________________________________\n",
      "conv2d_155 (Conv2D)          (None, 256, 256, 128)     73856     \n",
      "_________________________________________________________________\n",
      "batch_normalization_155 (Bat (None, 256, 256, 128)     512       \n",
      "_________________________________________________________________\n",
      "activation_155 (Activation)  (None, 256, 256, 128)     0         \n",
      "_________________________________________________________________\n",
      "conv2d_156 (Conv2D)          (None, 256, 256, 128)     147584    \n",
      "_________________________________________________________________\n",
      "batch_normalization_156 (Bat (None, 256, 256, 128)     512       \n",
      "_________________________________________________________________\n",
      "activation_156 (Activation)  (None, 256, 256, 128)     0         \n",
      "_________________________________________________________________\n",
      "conv2d_157 (Conv2D)          (None, 256, 256, 256)     295168    \n",
      "_________________________________________________________________\n",
      "batch_normalization_157 (Bat (None, 256, 256, 256)     1024      \n",
      "_________________________________________________________________\n",
      "activation_157 (Activation)  (None, 256, 256, 256)     0         \n",
      "_________________________________________________________________\n",
      "conv2d_158 (Conv2D)          (None, 256, 256, 256)     590080    \n",
      "_________________________________________________________________\n",
      "batch_normalization_158 (Bat (None, 256, 256, 256)     1024      \n",
      "_________________________________________________________________\n",
      "activation_158 (Activation)  (None, 256, 256, 256)     0         \n",
      "_________________________________________________________________\n",
      "conv2d_159 (Conv2D)          (None, 256, 256, 256)     590080    \n",
      "_________________________________________________________________\n",
      "batch_normalization_159 (Bat (None, 256, 256, 256)     1024      \n",
      "_________________________________________________________________\n",
      "activation_159 (Activation)  (None, 256, 256, 256)     0         \n",
      "_________________________________________________________________\n",
      "conv2d_160 (Conv2D)          (None, 256, 256, 128)     295040    \n",
      "_________________________________________________________________\n",
      "batch_normalization_160 (Bat (None, 256, 256, 128)     512       \n",
      "_________________________________________________________________\n",
      "activation_160 (Activation)  (None, 256, 256, 128)     0         \n",
      "_________________________________________________________________\n",
      "conv2d_161 (Conv2D)          (None, 256, 256, 128)     147584    \n",
      "_________________________________________________________________\n",
      "batch_normalization_161 (Bat (None, 256, 256, 128)     512       \n",
      "_________________________________________________________________\n",
      "activation_161 (Activation)  (None, 256, 256, 128)     0         \n",
      "_________________________________________________________________\n",
      "conv2d_162 (Conv2D)          (None, 256, 256, 128)     147584    \n",
      "_________________________________________________________________\n",
      "batch_normalization_162 (Bat (None, 256, 256, 128)     512       \n",
      "_________________________________________________________________\n",
      "activation_162 (Activation)  (None, 256, 256, 128)     0         \n",
      "_________________________________________________________________\n",
      "conv2d_163 (Conv2D)          (None, 256, 256, 128)     147584    \n",
      "_________________________________________________________________\n",
      "batch_normalization_163 (Bat (None, 256, 256, 128)     512       \n",
      "_________________________________________________________________\n",
      "activation_163 (Activation)  (None, 256, 256, 128)     0         \n",
      "_________________________________________________________________\n",
      "conv2d_164 (Conv2D)          (None, 256, 256, 128)     147584    \n",
      "_________________________________________________________________\n",
      "batch_normalization_164 (Bat (None, 256, 256, 128)     512       \n",
      "_________________________________________________________________\n",
      "activation_164 (Activation)  (None, 256, 256, 128)     0         \n",
      "_________________________________________________________________\n",
      "conv2d_165 (Conv2D)          (None, 256, 256, 128)     147584    \n",
      "_________________________________________________________________\n",
      "batch_normalization_165 (Bat (None, 256, 256, 128)     512       \n",
      "_________________________________________________________________\n",
      "activation_165 (Activation)  (None, 256, 256, 128)     0         \n",
      "_________________________________________________________________\n",
      "conv2d_166 (Conv2D)          (None, 256, 256, 128)     147584    \n",
      "_________________________________________________________________\n",
      "batch_normalization_166 (Bat (None, 256, 256, 128)     512       \n",
      "_________________________________________________________________\n",
      "activation_166 (Activation)  (None, 256, 256, 128)     0         \n",
      "_________________________________________________________________\n",
      "conv2d_167 (Conv2D)          (None, 256, 256, 256)     1605888   \n",
      "_________________________________________________________________\n",
      "batch_normalization_167 (Bat (None, 256, 256, 256)     1024      \n",
      "_________________________________________________________________\n",
      "activation_167 (Activation)  (None, 256, 256, 256)     0         \n",
      "_________________________________________________________________\n",
      "conv2d_168 (Conv2D)          (None, 256, 256, 256)     65792     \n",
      "_________________________________________________________________\n",
      "batch_normalization_168 (Bat (None, 256, 256, 256)     1024      \n",
      "_________________________________________________________________\n",
      "activation_168 (Activation)  (None, 256, 256, 256)     0         \n",
      "_________________________________________________________________\n",
      "conv2d_169 (Conv2D)          (None, 256, 256, 2)       514       \n",
      "_________________________________________________________________\n",
      "batch_normalization_169 (Bat (None, 256, 256, 2)       8         \n",
      "_________________________________________________________________\n",
      "activation_169 (Activation)  (None, 256, 256, 2)       0         \n",
      "=================================================================\n",
      "Total params: 4,598,474\n",
      "Trainable params: 4,593,350\n",
      "Non-trainable params: 5,124\n",
      "_________________________________________________________________\n"
     ]
    }
   ],
   "source": [
    "model = dilated(2, (256,256,3))\n",
    "\n",
    "optimizer = tf.keras.optimizers.SGD(learning_rate=1e-2, momentum=0.9, nesterov=True, name=\"SGD\")\n",
    "\n",
    "model.compile(loss=bce_jaccard_loss, optimizer=optimizer, metrics=[iou_score, FScore(),tversky])\n",
    "model.summary()"
   ]
  },
  {
   "cell_type": "code",
   "execution_count": 25,
   "metadata": {
    "collapsed": true,
    "execution": {
     "iopub.execute_input": "2021-08-19T14:31:42.787274Z",
     "iopub.status.busy": "2021-08-19T14:31:42.786964Z",
     "iopub.status.idle": "2021-08-19T14:31:42.812221Z",
     "shell.execute_reply": "2021-08-19T14:31:42.810594Z",
     "shell.execute_reply.started": "2021-08-19T14:31:42.787247Z"
    },
    "jupyter": {
     "outputs_hidden": true
    }
   },
   "outputs": [
    {
     "ename": "NameError",
     "evalue": "name 'train_images' is not defined",
     "output_type": "error",
     "traceback": [
      "\u001b[0;31m---------------------------------------------------------------------------\u001b[0m",
      "\u001b[0;31mNameError\u001b[0m                                 Traceback (most recent call last)",
      "\u001b[0;32m<ipython-input-25-7cd8e0258bf9>\u001b[0m in \u001b[0;36m<module>\u001b[0;34m\u001b[0m\n\u001b[1;32m      1\u001b[0m \u001b[0mepochs\u001b[0m\u001b[0;34m=\u001b[0m\u001b[0;36m5\u001b[0m\u001b[0;34m\u001b[0m\u001b[0;34m\u001b[0m\u001b[0m\n\u001b[1;32m      2\u001b[0m \u001b[0mbatch_size\u001b[0m\u001b[0;34m=\u001b[0m\u001b[0;36m2\u001b[0m\u001b[0;34m\u001b[0m\u001b[0;34m\u001b[0m\u001b[0m\n\u001b[0;32m----> 3\u001b[0;31m model.fit(x=np.array(train_images),\n\u001b[0m\u001b[1;32m      4\u001b[0m         \u001b[0my\u001b[0m\u001b[0;34m=\u001b[0m\u001b[0mnp\u001b[0m\u001b[0;34m.\u001b[0m\u001b[0marray\u001b[0m\u001b[0;34m(\u001b[0m\u001b[0mtrain_masks\u001b[0m\u001b[0;34m)\u001b[0m\u001b[0;34m,\u001b[0m\u001b[0;34m\u001b[0m\u001b[0;34m\u001b[0m\u001b[0m\n\u001b[1;32m      5\u001b[0m         \u001b[0mbatch_size\u001b[0m\u001b[0;34m=\u001b[0m\u001b[0mbatch_size\u001b[0m\u001b[0;34m,\u001b[0m\u001b[0;34m\u001b[0m\u001b[0;34m\u001b[0m\u001b[0m\n",
      "\u001b[0;31mNameError\u001b[0m: name 'train_images' is not defined"
     ]
    }
   ],
   "source": [
    "epochs=50\n",
    "batch_size=2\n",
    "model.fit(x=np.array(train_images),\n",
    "        y=np.array(train_masks),\n",
    "        batch_size=batch_size,\n",
    "        epochs=epochs,\n",
    "        validation_data=(np.array(val_images), np.array(val_masks)),\n",
    ")"
   ]
  },
  {
   "cell_type": "code",
   "execution_count": null,
   "metadata": {},
   "outputs": [],
   "source": [
    "#model.save_weights('./' + \"dilated_buildings.hdf5\")\n",
    "#print(\"save weight done..\")"
   ]
  },
  {
   "cell_type": "code",
   "execution_count": 18,
   "metadata": {
    "execution": {
     "iopub.execute_input": "2021-08-19T13:55:50.912995Z",
     "iopub.status.busy": "2021-08-19T13:55:50.912101Z",
     "iopub.status.idle": "2021-08-19T13:55:51.358381Z",
     "shell.execute_reply": "2021-08-19T13:55:51.357075Z",
     "shell.execute_reply.started": "2021-08-19T13:55:50.912899Z"
    }
   },
   "outputs": [],
   "source": [
    "# save the model:\n",
    "model.save(f'./dilated_buildings_{epochs}_{batch_size}.h5')"
   ]
  },
  {
   "cell_type": "code",
   "execution_count": null,
   "metadata": {},
   "outputs": [],
   "source": [
    "# to load the model without doing again the training:\n",
    "# model = keras.models.load_model('./dilated_buildings.hdf5')"
   ]
  },
  {
   "cell_type": "code",
   "execution_count": null,
   "metadata": {},
   "outputs": [],
   "source": [
    "test_images_paths, test_masks_paths = utils.get_images_paths(x_test_dir, y_test_dir)\n",
    "test_images, test_masks = utils.load_preprocess_images(test_images_paths, test_masks_paths, (PATCH_WIDTH, PATCH_HEIGHT), (256, 256), 2, class_rgb_values)\n",
    "test_images = np.array(test_images)\n",
    "test_masks = np.array(test_masks)"
   ]
  },
  {
   "cell_type": "code",
   "execution_count": null,
   "metadata": {},
   "outputs": [],
   "source": [
    "#model_buildings_evaluation = model.evaluate(test_images, test_masks)"
   ]
  },
  {
   "cell_type": "markdown",
   "metadata": {},
   "source": [
    "## CityScapes"
   ]
  },
  {
   "cell_type": "code",
   "execution_count": 33,
   "metadata": {
    "execution": {
     "iopub.execute_input": "2021-08-19T14:38:19.996770Z",
     "iopub.status.busy": "2021-08-19T14:38:19.996439Z",
     "iopub.status.idle": "2021-08-19T14:38:20.357378Z",
     "shell.execute_reply": "2021-08-19T14:38:20.356584Z",
     "shell.execute_reply.started": "2021-08-19T14:38:19.996741Z"
    }
   },
   "outputs": [],
   "source": [
    "DATA_DIR = '../input/cityscape/'\n",
    "\n",
    "x_train_dir = os.path.join(DATA_DIR, 'train/images')\n",
    "y_train_dir = os.path.join(DATA_DIR, 'train/annotations')\n",
    "\n",
    "x_valid_dir = os.path.join(DATA_DIR, 'val/images')\n",
    "y_valid_dir = os.path.join(DATA_DIR, 'val/annotations')\n",
    "\n",
    "x_test_dir = os.path.join(DATA_DIR, 'test/images')\n",
    "y_test_dir = os.path.join(DATA_DIR, 'test/annotations')\n",
    "\n",
    "\n",
    "class_values = utils_cs.grouped_labels\n",
    "n_labels = len(class_values)+1\n",
    "ACTIVATION = 'softmax'\n",
    "BATCH_SIZE = 4\n",
    "EPOCHS = 5\n",
    "\n",
    "optimizer = tf.keras.optimizers.SGD(\n",
    "    learning_rate=0.1, momentum=0.9, nesterov=True, name=\"SGD\")\n",
    "\n",
    "model = dilated(num_of_classes=n_labels, input_shape=(256, 256, 3))\n",
    "\n",
    "model.compile(optimizer=optimizer, loss=cce_jaccard_loss, metrics=[IOUScore(),FScore()] )\n",
    "\n",
    "training_dataset = utils_cs.Dataset(x_train_dir, y_train_dir, class_values=class_values)\n",
    "valid_dataset = utils_cs.Dataset(x_valid_dir, y_valid_dir, class_values=class_values)\n",
    "\n",
    "train_dataloader = utils_cs.Dataloder(training_dataset, batch_size=BATCH_SIZE, shuffle=True)\n",
    "valid_dataloader = utils_cs.Dataloder(valid_dataset, batch_size=1, shuffle=False)\n",
    "history = []"
   ]
  },
  {
   "cell_type": "code",
   "execution_count": 58,
   "metadata": {
    "execution": {
     "iopub.execute_input": "2021-08-19T15:15:44.934690Z",
     "iopub.status.busy": "2021-08-19T15:15:44.934369Z",
     "iopub.status.idle": "2021-08-19T15:35:44.373075Z",
     "shell.execute_reply": "2021-08-19T15:35:44.372256Z",
     "shell.execute_reply.started": "2021-08-19T15:15:44.934661Z"
    }
   },
   "outputs": [
    {
     "name": "stdout",
     "output_type": "stream",
     "text": [
      "Epoch 1/5\n",
      "287/287 [==============================] - 240s 836ms/step - loss: 0.5152 - iou_score: 0.5635 - f1-score: 0.6752 - val_loss: 0.7416 - val_iou_score: 0.4219 - val_f1-score: 0.5327\n",
      "Epoch 2/5\n",
      "287/287 [==============================] - 240s 834ms/step - loss: 0.4937 - iou_score: 0.5811 - f1-score: 0.6916 - val_loss: 0.7259 - val_iou_score: 0.4286 - val_f1-score: 0.5448\n",
      "Epoch 3/5\n",
      "287/287 [==============================] - 239s 833ms/step - loss: 0.4792 - iou_score: 0.5929 - f1-score: 0.7029 - val_loss: 0.8065 - val_iou_score: 0.4284 - val_f1-score: 0.5363\n",
      "Epoch 4/5\n",
      "287/287 [==============================] - 240s 834ms/step - loss: 0.4634 - iou_score: 0.6061 - f1-score: 0.7156 - val_loss: 0.8432 - val_iou_score: 0.3680 - val_f1-score: 0.4775\n",
      "Epoch 5/5\n",
      "287/287 [==============================] - 240s 835ms/step - loss: 0.4499 - iou_score: 0.6174 - f1-score: 0.7263 - val_loss: 0.7996 - val_iou_score: 0.4100 - val_f1-score: 0.5243\n"
     ]
    }
   ],
   "source": [
    "# train model\n",
    "res = model.fit(\n",
    "    train_dataloader, \n",
    "    epochs=5, \n",
    "    validation_data=valid_dataloader\n",
    ")\n",
    "history.append(res.history)"
   ]
  },
  {
   "cell_type": "code",
   "execution_count": 63,
   "metadata": {
    "execution": {
     "iopub.execute_input": "2021-08-19T15:39:39.197826Z",
     "iopub.status.busy": "2021-08-19T15:39:39.197504Z",
     "iopub.status.idle": "2021-08-19T15:39:39.399392Z",
     "shell.execute_reply": "2021-08-19T15:39:39.398341Z",
     "shell.execute_reply.started": "2021-08-19T15:39:39.197796Z"
    }
   },
   "outputs": [
    {
     "data": {
      "image/png": "[encoded data removed]",
      "text/plain": [
       "<Figure size 576x360 with 1 Axes>"
      ]
     },
     "metadata": {
      "needs_background": "light"
     },
     "output_type": "display_data"
    }
   ],
   "source": [
    "# print the graph\n",
    "pd.DataFrame(history[1]).plot(figsize=(8,5))\n",
    "plt.grid(True)\n",
    "plt.show()"
   ]
  },
  {
   "cell_type": "code",
   "execution_count": 67,
   "metadata": {
    "execution": {
     "iopub.execute_input": "2021-08-19T15:41:51.896293Z",
     "iopub.status.busy": "2021-08-19T15:41:51.895967Z",
     "iopub.status.idle": "2021-08-19T15:41:52.099063Z",
     "shell.execute_reply": "2021-08-19T15:41:52.098174Z",
     "shell.execute_reply.started": "2021-08-19T15:41:51.896264Z"
    }
   },
   "outputs": [],
   "source": [
    "model.save(f'./dilated_cityscape_{epochs}_{batch_size}.h5')\n",
    "#model.load_weights(f'./dilated_cityscape_{epochs}_{batch_size}.h5')"
   ]
  },
  {
   "cell_type": "code",
   "execution_count": 68,
   "metadata": {
    "execution": {
     "iopub.execute_input": "2021-08-19T15:54:05.106830Z",
     "iopub.status.busy": "2021-08-19T15:54:05.106356Z",
     "iopub.status.idle": "2021-08-19T15:54:05.594429Z",
     "shell.execute_reply": "2021-08-19T15:54:05.593570Z",
     "shell.execute_reply.started": "2021-08-19T15:54:05.106788Z"
    }
   },
   "outputs": [],
   "source": [
    "test_dataset = utils_cs.Dataset(x_test_dir, y_test_dir, class_values=class_values)\n",
    "test_dataloader = utils_cs.Dataloder(test_dataset, batch_size=1, shuffle=False)"
   ]
  },
  {
   "cell_type": "code",
   "execution_count": null,
   "metadata": {},
   "outputs": [],
   "source": [
    "model.evaluate(test_dataloader)"
   ]
  },
  {
   "cell_type": "code",
   "execution_count": 69,
   "metadata": {
    "execution": {
     "iopub.execute_input": "2021-08-19T15:54:07.147668Z",
     "iopub.status.busy": "2021-08-19T15:54:07.147345Z",
     "iopub.status.idle": "2021-08-19T15:55:01.543183Z",
     "shell.execute_reply": "2021-08-19T15:55:01.542273Z",
     "shell.execute_reply.started": "2021-08-19T15:54:07.147638Z"
    }
   },
   "outputs": [],
   "source": [
    "pred = model.predict(test_dataloader)\n",
    "result = np.argmax(pred,axis=3)"
   ]
  },
  {
   "cell_type": "code",
   "execution_count": 71,
   "metadata": {
    "execution": {
     "iopub.execute_input": "2021-08-19T15:55:33.840744Z",
     "iopub.status.busy": "2021-08-19T15:55:33.840410Z",
     "iopub.status.idle": "2021-08-19T15:55:34.363736Z",
     "shell.execute_reply": "2021-08-19T15:55:34.362961Z",
     "shell.execute_reply.started": "2021-08-19T15:55:33.840697Z"
    }
   },
   "outputs": [
    {
     "data": {
      "image/png": "[encoded data removed]",
      "text/plain": [
       "<Figure size 648x432 with 2 Axes>"
      ]
     },
     "metadata": {
      "needs_background": "light"
     },
     "output_type": "display_data"
    }
   ],
   "source": [
    "res_seg = utils_cs.colour_code_segmentation(result[2]) #colour the mask by using the dictionary, group_label -> pixel\n",
    "\n",
    "mask_example = test_dataset.__getitem__(2)[1]\n",
    "mask_example = test_dataset.convert_to_single_mask(mask_example) \n",
    "result_example = utils_cs.colour_code_segmentation(mask_example)\n",
    "\n",
    "fig, axes = plt.subplots(1, 2,figsize=(9,6))\n",
    "_ = axes[0].imshow(res_seg)\n",
    "_ = axes[1].imshow(result_example)\n",
    "plt.show()"
   ]
  }
 ],
 "metadata": {
  "kernelspec": {
   "display_name": "Python 3",
   "language": "python",
   "name": "python3"
  },
  "language_info": {
   "codemirror_mode": {
    "name": "ipython",
    "version": 3
   },
   "file_extension": ".py",
   "mimetype": "text/x-python",
   "name": "python",
   "nbconvert_exporter": "python",
   "pygments_lexer": "ipython3",
   "version": "3.8.8"
  }
 },
 "nbformat": 4,
 "nbformat_minor": 4
}
